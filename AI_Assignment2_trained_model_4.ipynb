{
  "nbformat": 4,
  "nbformat_minor": 0,
  "metadata": {
    "colab": {
      "name": "Assignment2.ipynb",
      "provenance": [],
      "collapsed_sections": [],
      "toc_visible": true
    },
    "kernelspec": {
      "name": "python3",
      "display_name": "Python 3"
    }
  },
  "cells": [
    {
      "cell_type": "markdown",
      "metadata": {
        "id": "jbuYGJyGS3tt",
        "colab_type": "text"
      },
      "source": [
        "# **CSY3025 Artificial Intelligence Techniques**\n",
        "## **Assignment 2 – Image Classification using Deep Learning**\n",
        "\n",
        "In supermarkets, customers often need to manually select fruit and\n",
        "vegetables at the self-checkout as shown in the image below.\n",
        "\n",
        "You are asked to join a team of engineers to develop a solution to automate the process of fruit/vegetable selection. A customer would place one type of fruit/vegetable at a time in a designated area before an overhead camera takes an image. Your task is to develop an image classifier that names the item in the image (from known categories). Your classifier needs to recognise **5 different fruit/vegetables** of your choice.\n",
        "\n",
        "To complete the task, you must study the problem space, collect image dataset, train a deep learning classifier, and use appropriate method to showcase/visualise the performance of your classifier.\n",
        "\n",
        "### **The deliverables of the assignments include:**\n",
        "1. A working deep learning model implemented using TensorFlow\n",
        "and Python. You must submit a Python notebook file (.ipynb) with all outputs saved.\n",
        " \n",
        "\n",
        "2. A report that includes but not limited to the following sections:\n",
        "*   **a. Cover page**\n",
        "*    i. [optional] If your file size is larger than what’s permitted by the Turnitin submission point, then include a download link to your dataset (one drive, github, etc.)\n",
        "*    ii. A link to a 5-minute demo video (e.g., screen recording) that walks through your design/implementation\n",
        "*   **b. Introduction**\n",
        "*   **c. Problem analysis and background research**\n",
        "*   **d. Building deep learning network (explain how you make\n",
        "choices at each following step)**\n",
        "*   i. Dataset\n",
        "*   ii. Network (structure, loss function, optimiser, etc.)\n",
        "*   iii. Training and evaluation\n",
        "*   iv. Testing\n",
        "*   **e. Summary of additional features (if applies)**\n",
        "*   **f. Discussions and conclusions**\n",
        "*   i. Lessons learned\n",
        "*   ii. Limitations\n",
        "*   **g. Reference**\n",
        "\n",
        "### **The marking will be based on:**\n",
        "The marking will be based on:\n",
        "1. 20% Problem analysis and background research\n",
        "(demonstrate your general knowledge of deep learning and the\n",
        "application scenario)\n",
        "2. 30% Design (Architectural design of your application,\n",
        "construction of dataset, test plans, etc. including additional features such as extra categories, exceptional model performance, user interface, etc.)\n",
        "3. 40% Implementation (completion of the model, reasonable performance, and additional features)\n",
        "4. 10% Report quality (quality of technical writing)"
      ]
    },
    {
      "cell_type": "code",
      "metadata": {
        "id": "Nk2kOgrYK-Zi",
        "colab_type": "code",
        "colab": {}
      },
      "source": [
        "# Imports\n",
        "import tensorflow as tf\n",
        "from tensorflow.keras.optimizers import RMSprop\n",
        "import keras_preprocessing\n",
        "from keras_preprocessing import image\n",
        "from keras.preprocessing.image import ImageDataGenerator\n",
        "import matplotlib.pyplot as plt\n",
        "import matplotlib.image as mpimg\n",
        "import os\n",
        "import keras\n",
        "from keras import backend as K"
      ],
      "execution_count": 22,
      "outputs": []
    },
    {
      "cell_type": "code",
      "metadata": {
        "id": "ZsLAQubtLFH9",
        "colab_type": "code",
        "colab": {
          "base_uri": "https://localhost:8080/",
          "height": 34
        },
        "outputId": "b8d2ce3e-18da-42dc-e125-4f240da37775"
      },
      "source": [
        "# Unzip fruits folder\n",
        "!unzip -q '/content/drive/My Drive/fruits-5.zip'"
      ],
      "execution_count": 23,
      "outputs": [
        {
          "output_type": "stream",
          "text": [
            "replace fruits-360-dataset/.DS_Store? [y]es, [n]o, [A]ll, [N]one, [r]ename: A\n"
          ],
          "name": "stdout"
        }
      ]
    },
    {
      "cell_type": "code",
      "metadata": {
        "id": "XV3SKvxdLOXE",
        "colab_type": "code",
        "colab": {}
      },
      "source": [
        "# GDRIVEPATH='/content/fruits-360_dataset/fruits-360'\n",
        "GDRIVEPATH='/content/fruits-360-dataset/fruits-360'"
      ],
      "execution_count": 24,
      "outputs": []
    },
    {
      "cell_type": "code",
      "metadata": {
        "id": "aDd6R3IcL2Cx",
        "colab_type": "code",
        "colab": {}
      },
      "source": [
        "# Base directory variable\n",
        "base_dir = GDRIVEPATH\n",
        "\n",
        "# Directories\n",
        "train_dir = os.path.join(base_dir, 'train')\n",
        "validation_dir = os.path.join(base_dir, 'validation')\n",
        "test_dir = os.path.join(base_dir, 'test')\n",
        "\n",
        "# Training\n",
        "train_apple_dir = os.path.join(train_dir, 'apple')\n",
        "train_banana_dir = os.path.join(train_dir, 'banana')\n",
        "train_cherry_dir = os.path.join(train_dir, 'cherry')\n",
        "train_grape_dir = os.path.join(train_dir, 'grape')\n",
        "train_peach_dir = os.path.join(train_dir, 'peach')\n",
        "\n",
        "# Validation\n",
        "validation_apple_dir = os.path.join(validation_dir, 'apple')\n",
        "validation_banana_dir = os.path.join(validation_dir, 'banana')\n",
        "validation_cherry_dir = os.path.join(validation_dir, 'cherry')\n",
        "validation_grape_dir = os.path.join(validation_dir, 'grape')\n",
        "validation_peach_dir = os.path.join(validation_dir, 'peach')\n",
        "\n",
        "# Test\n",
        "test_apple_dir = os.path.join(test_dir, 'apple')\n",
        "test_banana_dir = os.path.join(test_dir, 'banana')\n",
        "test_cherry_dir = os.path.join(test_dir, 'cherry')\n",
        "test_grape_dir = os.path.join(test_dir, 'grape')\n",
        "test_peach_dir = os.path.join(test_dir, 'peach')\n"
      ],
      "execution_count": 25,
      "outputs": []
    },
    {
      "cell_type": "code",
      "metadata": {
        "id": "uXdbhFshNV5G",
        "colab_type": "code",
        "colab": {
          "base_uri": "https://localhost:8080/",
          "height": 102
        },
        "outputId": "809f1f32-63dd-40fd-d23e-ca8264f50291"
      },
      "source": [
        "# Print number of images to verify training contents\n",
        "print('total training apple images:', len(os.listdir(train_apple_dir)))\n",
        "print('total training banana images:', len(os.listdir(train_banana_dir)))\n",
        "print('total training cherry images:', len(os.listdir(train_cherry_dir)))\n",
        "print('total training grape images:', len(os.listdir(train_grape_dir)))\n",
        "print('total training peach images:', len(os.listdir(train_peach_dir)))"
      ],
      "execution_count": 26,
      "outputs": [
        {
          "output_type": "stream",
          "text": [
            "total training apple images: 493\n",
            "total training banana images: 491\n",
            "total training cherry images: 493\n",
            "total training grape images: 985\n",
            "total training peach images: 493\n"
          ],
          "name": "stdout"
        }
      ]
    },
    {
      "cell_type": "code",
      "metadata": {
        "id": "kOOga4r-Eenn",
        "colab_type": "code",
        "colab": {
          "base_uri": "https://localhost:8080/",
          "height": 68
        },
        "outputId": "a2bfea18-7973-4acc-f13c-4cc5864a2ce3"
      },
      "source": [
        "# Print first 10 images from directories to verify contents\n",
        "\n",
        "apple_train_dir_names = os.listdir(train_apple_dir)\n",
        "apple_validation_dir_names = os.listdir(validation_apple_dir)\n",
        "apple_test_dir_names = os.listdir(test_apple_dir)\n",
        "\n",
        "print('Training: ', apple_train_dir_names[:10])\n",
        "print('Validation: ',apple_validation_dir_names[:10])\n",
        "print('Test: ',apple_test_dir_names[:10])"
      ],
      "execution_count": 27,
      "outputs": [
        {
          "output_type": "stream",
          "text": [
            "Training:  ['319_100.jpg', '274_100.jpg', 'r_119_100.jpg', '175_100.jpg', '241_100.jpg', '195_100.jpg', '185_100.jpg', '300_100.jpg', '258_100.jpg', '232_100.jpg']\n",
            "Validation:  ['122_100.jpg', '173_100.jpg', '31_100.jpg', '12_100.jpg', '108_100.jpg', '26_100.jpg', '160_100.jpg', '158_100.jpg', '138_100.jpg', '128_100.jpg']\n",
            "Test:  ['r_61_100.jpg', '97_100.jpg', 'r_76_100.jpg', '44_100.jpg', '54_100.jpg', '63_100.jpg', '69_100.jpg', '50_100.jpg', '66_100.jpg', 'r_52_100.jpg']\n"
          ],
          "name": "stdout"
        }
      ]
    },
    {
      "cell_type": "markdown",
      "metadata": {
        "id": "ZM_5JuSuTfLR",
        "colab_type": "text"
      },
      "source": [
        "# Training model"
      ]
    },
    {
      "cell_type": "code",
      "metadata": {
        "id": "OmgLBSuRN6if",
        "colab_type": "code",
        "colab": {}
      },
      "source": [
        "# Building the network\n",
        "from keras import layers\n",
        "from keras import models\n",
        "\n",
        "model = models.Sequential()\n",
        "# First\n",
        "model.add(layers.Conv2D(32, (3, 3), activation='relu',\n",
        "                        input_shape=(150, 150, 3)))\n",
        "model.add(layers.MaxPooling2D((2, 2)))\n",
        "# Second\n",
        "model.add(layers.Conv2D(64, (3, 3), activation='relu'))\n",
        "model.add(layers.MaxPooling2D((2, 2)))\n",
        "# Third\n",
        "model.add(layers.Conv2D(128, (3, 3), activation='relu'))\n",
        "model.add(layers.MaxPooling2D((2, 2)))\n",
        "# Fourth\n",
        "model.add(layers.Conv2D(128, (3, 3), activation='relu'))\n",
        "model.add(layers.MaxPooling2D((2, 2)))\n",
        "# Fifth\n",
        "model.add(layers.Conv2D(256, (3, 3), activation='relu'))\n",
        "model.add(layers.MaxPooling2D((2, 2)))\n",
        "# Flatten and Dropout\n",
        "model.add(layers.Flatten())\n",
        "model.add(layers.Dropout(0.5))\n",
        "# 512 neurons in hidden layer\n",
        "model.add(layers.Dense(512, activation='relu'))\n",
        "# Output 5 categories\n",
        "model.add(layers.Dense(5, activation='softmax'))\n"
      ],
      "execution_count": 28,
      "outputs": []
    },
    {
      "cell_type": "code",
      "metadata": {
        "id": "qLk_iV3XOMY_",
        "colab_type": "code",
        "colab": {
          "base_uri": "https://localhost:8080/",
          "height": 629
        },
        "outputId": "4191473f-3f45-476c-b25b-788c617d78b7"
      },
      "source": [
        "# Summarise model\n",
        "model.summary()"
      ],
      "execution_count": 29,
      "outputs": [
        {
          "output_type": "stream",
          "text": [
            "Model: \"sequential_2\"\n",
            "_________________________________________________________________\n",
            "Layer (type)                 Output Shape              Param #   \n",
            "=================================================================\n",
            "conv2d_6 (Conv2D)            (None, 148, 148, 32)      896       \n",
            "_________________________________________________________________\n",
            "max_pooling2d_6 (MaxPooling2 (None, 74, 74, 32)        0         \n",
            "_________________________________________________________________\n",
            "conv2d_7 (Conv2D)            (None, 72, 72, 64)        18496     \n",
            "_________________________________________________________________\n",
            "max_pooling2d_7 (MaxPooling2 (None, 36, 36, 64)        0         \n",
            "_________________________________________________________________\n",
            "conv2d_8 (Conv2D)            (None, 34, 34, 128)       73856     \n",
            "_________________________________________________________________\n",
            "max_pooling2d_8 (MaxPooling2 (None, 17, 17, 128)       0         \n",
            "_________________________________________________________________\n",
            "conv2d_9 (Conv2D)            (None, 15, 15, 128)       147584    \n",
            "_________________________________________________________________\n",
            "max_pooling2d_9 (MaxPooling2 (None, 7, 7, 128)         0         \n",
            "_________________________________________________________________\n",
            "conv2d_10 (Conv2D)           (None, 5, 5, 256)         295168    \n",
            "_________________________________________________________________\n",
            "max_pooling2d_10 (MaxPooling (None, 2, 2, 256)         0         \n",
            "_________________________________________________________________\n",
            "flatten_2 (Flatten)          (None, 1024)              0         \n",
            "_________________________________________________________________\n",
            "dropout_2 (Dropout)          (None, 1024)              0         \n",
            "_________________________________________________________________\n",
            "dense_3 (Dense)              (None, 512)               524800    \n",
            "_________________________________________________________________\n",
            "dense_4 (Dense)              (None, 5)                 2565      \n",
            "=================================================================\n",
            "Total params: 1,063,365\n",
            "Trainable params: 1,063,365\n",
            "Non-trainable params: 0\n",
            "_________________________________________________________________\n"
          ],
          "name": "stdout"
        }
      ]
    },
    {
      "cell_type": "code",
      "metadata": {
        "id": "G-VKSIThORAV",
        "colab_type": "code",
        "colab": {}
      },
      "source": [
        "# Selecting categorical_crossentropy as a loss function and RMSprop optimizer\n",
        "# Compile model\n",
        "from keras import optimizers\n",
        "\n",
        "model.compile(loss = 'categorical_crossentropy', optimizer='rmsprop', metrics=['acc'])\n"
      ],
      "execution_count": 30,
      "outputs": []
    },
    {
      "cell_type": "code",
      "metadata": {
        "id": "CJT9ipNnOUUm",
        "colab_type": "code",
        "colab": {
          "base_uri": "https://localhost:8080/",
          "height": 51
        },
        "outputId": "0abc848e-68f2-4136-b9d9-279be4763e55"
      },
      "source": [
        "# Data Augmentation to prevent overfitting\n",
        "from keras.preprocessing.image import ImageDataGenerator\n",
        "\n",
        "train_datagen = ImageDataGenerator(\n",
        "    rescale=1./255,\n",
        "    rotation_range=40,\n",
        "    width_shift_range=0.2,\n",
        "    height_shift_range=0.2,\n",
        "    shear_range=0.2,\n",
        "    zoom_range=0.2,\n",
        "    horizontal_flip=True,)\n",
        "\n",
        "test_datagen = ImageDataGenerator(rescale=1./255)\n",
        "\n",
        "train_generator = train_datagen.flow_from_directory(\n",
        "        train_dir,\n",
        "        target_size=(150, 150),\n",
        "        batch_size=20)\n",
        "\n",
        "validation_generator = test_datagen.flow_from_directory(\n",
        "        validation_dir,\n",
        "        target_size=(150, 150),\n",
        "        batch_size=20)\n"
      ],
      "execution_count": 31,
      "outputs": [
        {
          "output_type": "stream",
          "text": [
            "Found 2950 images belonging to 5 classes.\n",
            "Found 500 images belonging to 5 classes.\n"
          ],
          "name": "stdout"
        }
      ]
    },
    {
      "cell_type": "code",
      "metadata": {
        "id": "YIdDmbs6Odt3",
        "colab_type": "code",
        "colab": {
          "base_uri": "https://localhost:8080/",
          "height": 51
        },
        "outputId": "71912d6b-0096-4d7e-cc29-6b361e73214c"
      },
      "source": [
        "# Print databatch, labels and train generator\n",
        "for data_batch, labels_batch in train_generator:\n",
        "     print('data batch shape:', data_batch.shape)\n",
        "     print('labels batch shape:', labels_batch.shape)\n",
        "     break"
      ],
      "execution_count": 32,
      "outputs": [
        {
          "output_type": "stream",
          "text": [
            "data batch shape: (20, 150, 150, 3)\n",
            "labels batch shape: (20, 5)\n"
          ],
          "name": "stdout"
        }
      ]
    },
    {
      "cell_type": "markdown",
      "metadata": {
        "id": "uudKugJjVOrb",
        "colab_type": "text"
      },
      "source": [
        "# Training"
      ]
    },
    {
      "cell_type": "code",
      "metadata": {
        "id": "13ZMC8vrOmxk",
        "colab_type": "code",
        "colab": {
          "base_uri": "https://localhost:8080/",
          "height": 527
        },
        "outputId": "fc5c083d-06a4-45a1-e591-dab333f21b8b"
      },
      "source": [
        "# Training\n",
        "history = model.fit_generator(\n",
        "      train_generator,\n",
        "      steps_per_epoch=30,\n",
        "      epochs=15,\n",
        "      validation_data=validation_generator,\n",
        "      validation_steps=50)"
      ],
      "execution_count": 66,
      "outputs": [
        {
          "output_type": "stream",
          "text": [
            "Epoch 1/15\n",
            "30/30 [==============================] - 43s 1s/step - loss: 0.1646 - acc: 0.9783 - val_loss: 5.9605e-09 - val_acc: 1.0000\n",
            "Epoch 2/15\n",
            "30/30 [==============================] - 42s 1s/step - loss: 0.0343 - acc: 0.9917 - val_loss: 0.0000e+00 - val_acc: 1.0000\n",
            "Epoch 3/15\n",
            "30/30 [==============================] - 41s 1s/step - loss: 0.3039 - acc: 0.9783 - val_loss: 1.0079e-05 - val_acc: 1.0000\n",
            "Epoch 4/15\n",
            "30/30 [==============================] - 41s 1s/step - loss: 0.0160 - acc: 0.9950 - val_loss: 9.5367e-07 - val_acc: 1.0000\n",
            "Epoch 5/15\n",
            "30/30 [==============================] - 41s 1s/step - loss: 0.0545 - acc: 0.9881 - val_loss: 3.6005e-04 - val_acc: 0.9520\n",
            "Epoch 6/15\n",
            "30/30 [==============================] - 46s 2s/step - loss: 0.0698 - acc: 0.9783 - val_loss: 1.7881e-08 - val_acc: 1.0000\n",
            "Epoch 7/15\n",
            "30/30 [==============================] - 41s 1s/step - loss: 0.0560 - acc: 0.9898 - val_loss: 0.0000e+00 - val_acc: 1.0000\n",
            "Epoch 8/15\n",
            "30/30 [==============================] - 41s 1s/step - loss: 0.0938 - acc: 0.9883 - val_loss: 0.0000e+00 - val_acc: 1.0000\n",
            "Epoch 9/15\n",
            "30/30 [==============================] - 41s 1s/step - loss: 0.0468 - acc: 0.9950 - val_loss: 0.0000e+00 - val_acc: 1.0000\n",
            "Epoch 10/15\n",
            "30/30 [==============================] - 41s 1s/step - loss: 0.0966 - acc: 0.9883 - val_loss: 0.0000e+00 - val_acc: 1.0000\n",
            "Epoch 11/15\n",
            "30/30 [==============================] - 41s 1s/step - loss: 0.0590 - acc: 0.9917 - val_loss: 0.0000e+00 - val_acc: 1.0000\n",
            "Epoch 12/15\n",
            "30/30 [==============================] - 41s 1s/step - loss: 0.0178 - acc: 0.9967 - val_loss: 4.8158e-06 - val_acc: 1.0000\n",
            "Epoch 13/15\n",
            "30/30 [==============================] - 41s 1s/step - loss: 0.2056 - acc: 0.9750 - val_loss: 7.9870e-07 - val_acc: 1.0000\n",
            "Epoch 14/15\n",
            "30/30 [==============================] - 41s 1s/step - loss: 7.7743e-04 - acc: 1.0000 - val_loss: 0.0000e+00 - val_acc: 1.0000\n",
            "Epoch 15/15\n",
            "30/30 [==============================] - 41s 1s/step - loss: 0.0033 - acc: 0.9983 - val_loss: 1.1921e-08 - val_acc: 1.0000\n"
          ],
          "name": "stdout"
        }
      ]
    },
    {
      "cell_type": "code",
      "metadata": {
        "id": "Q9FewvtwOr52",
        "colab_type": "code",
        "colab": {}
      },
      "source": [
        "# Saving the trained model\n",
        "model.save(GDRIVEPATH+'fruits_trained.h5')"
      ],
      "execution_count": 67,
      "outputs": []
    },
    {
      "cell_type": "markdown",
      "metadata": {
        "id": "7tXLNJ0lSqEn",
        "colab_type": "text"
      },
      "source": [
        "# Evaluation"
      ]
    },
    {
      "cell_type": "code",
      "metadata": {
        "id": "PmBHD9VYO1Rl",
        "colab_type": "code",
        "colab": {
          "base_uri": "https://localhost:8080/",
          "height": 545
        },
        "outputId": "ff99717f-80b5-4eb8-cb82-1398cccf13df"
      },
      "source": [
        "import matplotlib.pyplot as plt\n",
        "\n",
        "acc = history.history['acc']\n",
        "val_acc = history.history['val_acc']\n",
        "loss = history.history['loss']\n",
        "val_loss = history.history['val_loss']\n",
        "\n",
        "epochs = range(1, len(acc) + 1)\n",
        "\n",
        "plt.plot(epochs, acc, 'bo', label='Training acc')\n",
        "plt.plot(epochs, val_acc, 'b', label='Validation acc')\n",
        "plt.title('Training and validation accuracy')\n",
        "plt.legend()\n",
        "\n",
        "plt.figure()\n",
        "\n",
        "plt.plot(epochs, loss, 'ro', label='Training loss')\n",
        "plt.plot(epochs, val_loss, 'r', label='Validation loss')\n",
        "plt.title('Training and validation loss')\n",
        "plt.legend()\n",
        "\n",
        "plt.show()"
      ],
      "execution_count": 68,
      "outputs": [
        {
          "output_type": "display_data",
          "data": {
            "image/png": "[encoded data removed]",
            "text/plain": [
              "<Figure size 432x288 with 1 Axes>"
            ]
          },
          "metadata": {
            "tags": [],
            "needs_background": "light"
          }
        },
        {
          "output_type": "display_data",
          "data": {
            "image/png": "[encoded data removed]",
            "text/plain": [
              "<Figure size 432x288 with 1 Axes>"
            ]
          },
          "metadata": {
            "tags": [],
            "needs_background": "light"
          }
        }
      ]
    },
    {
      "cell_type": "code",
      "metadata": {
        "id": "tCBQTqrQLMfA",
        "colab_type": "code",
        "colab": {}
      },
      "source": [
        "# Importing and validating the new model\n",
        "model_dir = '/content/fruits-360-dataset/fruits-360fruits_trained.h5'\n",
        "\n",
        "# Loading the h5 file\n",
        "fruit_model = tf.keras.models.load_model(\n",
        "    model_dir,\n",
        "    custom_objects=None,\n",
        "    compile=True\n",
        ")"
      ],
      "execution_count": 69,
      "outputs": []
    },
    {
      "cell_type": "code",
      "metadata": {
        "id": "rdtBmDu4M8oC",
        "colab_type": "code",
        "colab": {
          "base_uri": "https://localhost:8080/",
          "height": 51
        },
        "outputId": "726c94a9-baff-4656-f0e4-d468a1bbb0a3"
      },
      "source": [
        "# Evaluation of the model\n",
        "loss,acc = fruit_model.evaluate(validation_generator, verbose=2)\n",
        "print('Restored model, Accuracy: {:5.2f}%'.format(100*acc))"
      ],
      "execution_count": 70,
      "outputs": [
        {
          "output_type": "stream",
          "text": [
            "25/25 - 6s - loss: 6.6757e-09 - acc: 1.0000\n",
            "Restored model, Accuracy: 100.00%\n"
          ],
          "name": "stdout"
        }
      ]
    },
    {
      "cell_type": "markdown",
      "metadata": {
        "id": "583q7CZxSSKu",
        "colab_type": "text"
      },
      "source": [
        "# Prediction\n",
        "\n",
        "\n",
        "[Forked from deelpizard - YouTube](https://www.youtube.com/watch?v=bfQBPNDy5EM)\n",
        "\n"
      ]
    },
    {
      "cell_type": "code",
      "metadata": {
        "id": "Y2yja1i_MQB_",
        "colab_type": "code",
        "colab": {
          "base_uri": "https://localhost:8080/",
          "height": 34
        },
        "outputId": "07072c73-4efb-4f84-d818-368b49375d88"
      },
      "source": [
        "# Doesn't work\n",
        "test_batches = ImageDataGenerator().flow_from_directory(test_dir, target_size=(150, 150), classes=['apple', 'banana', 'cherry', 'grape', 'peach'], batch_size=30)\n",
        "\n",
        "test_imgs, test_labels = next(test_batches)\n",
        "# plt.plot(test_imgs, titles=test_labels)\n"
      ],
      "execution_count": 120,
      "outputs": [
        {
          "output_type": "stream",
          "text": [
            "Found 986 images belonging to 5 classes.\n"
          ],
          "name": "stdout"
        }
      ]
    },
    {
      "cell_type": "code",
      "metadata": {
        "id": "2K3o-mKoRb6w",
        "colab_type": "code",
        "colab": {
          "base_uri": "https://localhost:8080/",
          "height": 527
        },
        "outputId": "e2890cde-d6d1-4f0e-a395-14bb45a20f1f"
      },
      "source": [
        "# Predicting model\n",
        "predictions = model.predict_generator(test_batches, steps=1, verbose=0)\n",
        "\n",
        "predictions"
      ],
      "execution_count": 101,
      "outputs": [
        {
          "output_type": "execute_result",
          "data": {
            "text/plain": [
              "array([[1., 0., 0., 0., 0.],\n",
              "       [0., 0., 0., 0., 1.],\n",
              "       [0., 1., 0., 0., 0.],\n",
              "       [0., 0., 0., 0., 1.],\n",
              "       [1., 0., 0., 0., 0.],\n",
              "       [0., 0., 0., 0., 1.],\n",
              "       [1., 0., 0., 0., 0.],\n",
              "       [1., 0., 0., 0., 0.],\n",
              "       [0., 0., 0., 0., 1.],\n",
              "       [0., 0., 0., 0., 1.],\n",
              "       [1., 0., 0., 0., 0.],\n",
              "       [0., 1., 0., 0., 0.],\n",
              "       [1., 0., 0., 0., 0.],\n",
              "       [0., 1., 0., 0., 0.],\n",
              "       [0., 1., 0., 0., 0.],\n",
              "       [1., 0., 0., 0., 0.],\n",
              "       [1., 0., 0., 0., 0.],\n",
              "       [0., 0., 0., 0., 1.],\n",
              "       [1., 0., 0., 0., 0.],\n",
              "       [1., 0., 0., 0., 0.],\n",
              "       [0., 1., 0., 0., 0.],\n",
              "       [0., 0., 0., 0., 1.],\n",
              "       [0., 0., 0., 0., 1.],\n",
              "       [1., 0., 0., 0., 0.],\n",
              "       [1., 0., 0., 0., 0.],\n",
              "       [1., 0., 0., 0., 0.],\n",
              "       [1., 0., 0., 0., 0.],\n",
              "       [0., 0., 0., 0., 1.],\n",
              "       [0., 0., 0., 0., 1.],\n",
              "       [0., 1., 0., 0., 0.]], dtype=float32)"
            ]
          },
          "metadata": {
            "tags": []
          },
          "execution_count": 101
        }
      ]
    },
    {
      "cell_type": "code",
      "metadata": {
        "id": "Ecy6HFuA9JZ1",
        "colab_type": "code",
        "colab": {
          "base_uri": "https://localhost:8080/",
          "height": 51
        },
        "outputId": "4d6293ee-5b6c-48ce-9362-a5d5840b5c38"
      },
      "source": [
        "# Testing accuracy\n",
        "test_loss, test_acc = model.evaluate(test_imgs, test_labels)\n",
        "\n",
        "test_acc"
      ],
      "execution_count": 119,
      "outputs": [
        {
          "output_type": "stream",
          "text": [
            "\r30/30 [==============================] - 0s 12ms/step\n"
          ],
          "name": "stdout"
        },
        {
          "output_type": "execute_result",
          "data": {
            "text/plain": [
              "0.5"
            ]
          },
          "metadata": {
            "tags": []
          },
          "execution_count": 119
        }
      ]
    }
  ]
}