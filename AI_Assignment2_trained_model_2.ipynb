{
  "nbformat": 4,
  "nbformat_minor": 0,
  "metadata": {
    "colab": {
      "name": "Assignment2.ipynb",
      "provenance": [],
      "collapsed_sections": [],
      "toc_visible": true
    },
    "kernelspec": {
      "name": "python3",
      "display_name": "Python 3"
    }
  },
  "cells": [
    {
      "cell_type": "code",
      "metadata": {
        "id": "Nk2kOgrYK-Zi",
        "colab_type": "code",
        "colab": {}
      },
      "source": [
        "import tensorflow as tf\n",
        "from tensorflow.keras.optimizers import RMSprop\n",
        "import keras_preprocessing\n",
        "from keras_preprocessing import image\n",
        "from keras.preprocessing.image import ImageDataGenerator\n",
        "import matplotlib.pyplot as plt\n",
        "import matplotlib.image as mpimg\n",
        "import os"
      ],
      "execution_count": 232,
      "outputs": []
    },
    {
      "cell_type": "code",
      "metadata": {
        "id": "ZsLAQubtLFH9",
        "colab_type": "code",
        "colab": {}
      },
      "source": [
        "# Unzip fruits folder\n",
        "!unzip -q '/content/drive/My Drive/fruits-5.zip'"
      ],
      "execution_count": null,
      "outputs": []
    },
    {
      "cell_type": "code",
      "metadata": {
        "id": "XV3SKvxdLOXE",
        "colab_type": "code",
        "colab": {}
      },
      "source": [
        "# GDRIVEPATH='/content/fruits-360_dataset/fruits-360'\n",
        "GDRIVEPATH='/content/fruits-360-dataset/fruits-360'"
      ],
      "execution_count": 234,
      "outputs": []
    },
    {
      "cell_type": "code",
      "metadata": {
        "id": "aDd6R3IcL2Cx",
        "colab_type": "code",
        "colab": {}
      },
      "source": [
        "base_dir = GDRIVEPATH\n",
        "\n",
        "# Directories\n",
        "train_dir = os.path.join(base_dir, 'train')\n",
        "validation_dir = os.path.join(base_dir, 'validation')\n",
        "test_dir = os.path.join(base_dir, 'test')\n",
        "\n",
        "# Training\n",
        "train_apple_dir = os.path.join(train_dir, 'apple')\n",
        "train_banana_dir = os.path.join(train_dir, 'banana')\n",
        "train_cherry_dir = os.path.join(train_dir, 'cherry')\n",
        "train_grape_dir = os.path.join(train_dir, 'grape')\n",
        "train_peach_dir = os.path.join(train_dir, 'peach')\n",
        "\n",
        "# Validation\n",
        "validation_apple_dir = os.path.join(validation_dir, 'apple')\n",
        "validation_banana_dir = os.path.join(validation_dir, 'banana')\n",
        "validation_cherry_dir = os.path.join(validation_dir, 'cherry')\n",
        "validation_grape_dir = os.path.join(validation_dir, 'grape')\n",
        "validation_peach_dir = os.path.join(validation_dir, 'peach')\n",
        "\n",
        "# Test\n",
        "test_apple_dir = os.path.join(test_dir, 'apple')\n",
        "test_banana_dir = os.path.join(test_dir, 'banana')\n",
        "test_cherry_dir = os.path.join(test_dir, 'cherry')\n",
        "test_grape_dir = os.path.join(test_dir, 'grape')\n",
        "test_peach_dir = os.path.join(test_dir, 'peach')\n"
      ],
      "execution_count": 235,
      "outputs": []
    },
    {
      "cell_type": "code",
      "metadata": {
        "id": "uXdbhFshNV5G",
        "colab_type": "code",
        "colab": {
          "base_uri": "https://localhost:8080/",
          "height": 102
        },
        "outputId": "497593a6-1a18-4c08-9291-74137f72bb34"
      },
      "source": [
        "print('total training apple images:', len(os.listdir(train_apple_dir)))\n",
        "print('total training banana images:', len(os.listdir(train_banana_dir)))\n",
        "print('total training cherry images:', len(os.listdir(train_cherry_dir)))\n",
        "print('total training grape images:', len(os.listdir(train_grape_dir)))\n",
        "print('total training peach images:', len(os.listdir(train_peach_dir)))"
      ],
      "execution_count": 236,
      "outputs": [
        {
          "output_type": "stream",
          "text": [
            "total training apple images: 493\n",
            "total training banana images: 491\n",
            "total training cherry images: 493\n",
            "total training grape images: 985\n",
            "total training peach images: 493\n"
          ],
          "name": "stdout"
        }
      ]
    },
    {
      "cell_type": "code",
      "metadata": {
        "id": "kOOga4r-Eenn",
        "colab_type": "code",
        "colab": {
          "base_uri": "https://localhost:8080/",
          "height": 68
        },
        "outputId": "f9d70156-bcb4-461b-9001-5c888ade2e9d"
      },
      "source": [
        "# Print first 10 images from directories to verify contents\n",
        "\n",
        "apple_train_dir_names = os.listdir(train_apple_dir)\n",
        "apple_validation_dir_names = os.listdir(validation_apple_dir)\n",
        "apple_test_dir_names = os.listdir(test_apple_dir)\n",
        "\n",
        "print('Training: ', apple_train_dir_names[:10])\n",
        "print('Validation: ',apple_validation_dir_names[:10])\n",
        "print('Test: ',apple_test_dir_names[:10])"
      ],
      "execution_count": 237,
      "outputs": [
        {
          "output_type": "stream",
          "text": [
            "Training:  ['284_100.jpg', 'r_283_100.jpg', '305_100.jpg', 'r_246_100.jpg', 'r_159_100.jpg', 'r_128_100.jpg', '309_100.jpg', 'r_318_100.jpg', 'r_225_100.jpg', 'r_160_100.jpg']\n",
            "Validation:  ['129_100.jpg', '109_100.jpg', '173_100.jpg', '146_100.jpg', '160_100.jpg', '121_100.jpg', '154_100.jpg', '23_100.jpg', '170_100.jpg', '102_100.jpg']\n",
            "Test:  ['r_4_100.jpg', '55_100.jpg', 'r_72_100.jpg', 'r_8_100.jpg', 'r_97_100.jpg', 'r_38_100.jpg', '38_100.jpg', 'r_39_100.jpg', '36_100.jpg', 'r_62_100.jpg']\n"
          ],
          "name": "stdout"
        }
      ]
    },
    {
      "cell_type": "code",
      "metadata": {
        "id": "OmgLBSuRN6if",
        "colab_type": "code",
        "colab": {}
      },
      "source": [
        "# Building the network\n",
        "from keras import layers\n",
        "from keras import models\n",
        "\n",
        "model = models.Sequential()\n",
        "# First\n",
        "model.add(layers.Conv2D(32, (3, 3), activation='relu',\n",
        "                        input_shape=(150, 150, 3)))\n",
        "model.add(layers.MaxPooling2D((2, 2)))\n",
        "# Second\n",
        "model.add(layers.Conv2D(64, (3, 3), activation='relu'))\n",
        "model.add(layers.MaxPooling2D((2, 2)))\n",
        "# Third\n",
        "model.add(layers.Conv2D(128, (3, 3), activation='relu'))\n",
        "model.add(layers.MaxPooling2D((2, 2)))\n",
        "# Fourth\n",
        "model.add(layers.Conv2D(128, (3, 3), activation='relu'))\n",
        "model.add(layers.MaxPooling2D((2, 2)))\n",
        "# Fifth\n",
        "# model.add(layers.Conv2D(256, (3, 3), activation='relu'))\n",
        "# model.add(layers.MaxPooling2D((2, 2)))\n",
        "# Flatten and Dropout\n",
        "model.add(layers.Flatten())\n",
        "model.add(layers.Dropout(0.5))\n",
        "# 512 neurons in hidden layer\n",
        "model.add(layers.Dense(512, activation='relu'))\n",
        "# Output 5 categories\n",
        "model.add(layers.Dense(5, activation='softmax'))\n"
      ],
      "execution_count": 238,
      "outputs": []
    },
    {
      "cell_type": "code",
      "metadata": {
        "id": "qLk_iV3XOMY_",
        "colab_type": "code",
        "colab": {
          "base_uri": "https://localhost:8080/",
          "height": 561
        },
        "outputId": "2c568f60-754a-4168-c6df-67624a8aec66"
      },
      "source": [
        "model.summary()"
      ],
      "execution_count": 239,
      "outputs": [
        {
          "output_type": "stream",
          "text": [
            "Model: \"sequential_25\"\n",
            "_________________________________________________________________\n",
            "Layer (type)                 Output Shape              Param #   \n",
            "=================================================================\n",
            "conv2d_105 (Conv2D)          (None, 148, 148, 32)      896       \n",
            "_________________________________________________________________\n",
            "max_pooling2d_105 (MaxPoolin (None, 74, 74, 32)        0         \n",
            "_________________________________________________________________\n",
            "conv2d_106 (Conv2D)          (None, 72, 72, 64)        18496     \n",
            "_________________________________________________________________\n",
            "max_pooling2d_106 (MaxPoolin (None, 36, 36, 64)        0         \n",
            "_________________________________________________________________\n",
            "conv2d_107 (Conv2D)          (None, 34, 34, 128)       73856     \n",
            "_________________________________________________________________\n",
            "max_pooling2d_107 (MaxPoolin (None, 17, 17, 128)       0         \n",
            "_________________________________________________________________\n",
            "conv2d_108 (Conv2D)          (None, 15, 15, 128)       147584    \n",
            "_________________________________________________________________\n",
            "max_pooling2d_108 (MaxPoolin (None, 7, 7, 128)         0         \n",
            "_________________________________________________________________\n",
            "flatten_25 (Flatten)         (None, 6272)              0         \n",
            "_________________________________________________________________\n",
            "dropout_12 (Dropout)         (None, 6272)              0         \n",
            "_________________________________________________________________\n",
            "dense_49 (Dense)             (None, 512)               3211776   \n",
            "_________________________________________________________________\n",
            "dense_50 (Dense)             (None, 5)                 2565      \n",
            "=================================================================\n",
            "Total params: 3,455,173\n",
            "Trainable params: 3,455,173\n",
            "Non-trainable params: 0\n",
            "_________________________________________________________________\n"
          ],
          "name": "stdout"
        }
      ]
    },
    {
      "cell_type": "code",
      "metadata": {
        "id": "G-VKSIThORAV",
        "colab_type": "code",
        "colab": {}
      },
      "source": [
        "# Selecting categorical_crossentropy as a loss function and RMSprop optimizer\n",
        "from keras import optimizers\n",
        "\n",
        "model.compile(loss = 'categorical_crossentropy', optimizer='rmsprop', metrics=['acc'])\n"
      ],
      "execution_count": 240,
      "outputs": []
    },
    {
      "cell_type": "code",
      "metadata": {
        "id": "CJT9ipNnOUUm",
        "colab_type": "code",
        "colab": {
          "base_uri": "https://localhost:8080/",
          "height": 51
        },
        "outputId": "ddf747b5-a510-4059-94e3-56b6c82aa1d5"
      },
      "source": [
        "# Data Augmentation\n",
        "from keras.preprocessing.image import ImageDataGenerator\n",
        "\n",
        "train_datagen = ImageDataGenerator(\n",
        "    rescale=1./255,\n",
        "    rotation_range=40,\n",
        "    width_shift_range=0.2,\n",
        "    height_shift_range=0.2,\n",
        "    shear_range=0.2,\n",
        "    zoom_range=0.2,\n",
        "    horizontal_flip=True,)\n",
        "\n",
        "# train_datagen = ImageDataGenerator(rescale=1./255)\n",
        "\n",
        "test_datagen = ImageDataGenerator(rescale=1./255)\n",
        "\n",
        "train_generator = train_datagen.flow_from_directory(\n",
        "        train_dir,\n",
        "        target_size=(150, 150),\n",
        "        batch_size=20)\n",
        "        # class_mode='binary')\n",
        "\n",
        "validation_generator = test_datagen.flow_from_directory(\n",
        "        validation_dir,\n",
        "        target_size=(150, 150),\n",
        "        batch_size=20)\n",
        "        # class_mode='binary')\n"
      ],
      "execution_count": 241,
      "outputs": [
        {
          "output_type": "stream",
          "text": [
            "Found 2950 images belonging to 5 classes.\n",
            "Found 500 images belonging to 5 classes.\n"
          ],
          "name": "stdout"
        }
      ]
    },
    {
      "cell_type": "code",
      "metadata": {
        "id": "YIdDmbs6Odt3",
        "colab_type": "code",
        "colab": {
          "base_uri": "https://localhost:8080/",
          "height": 51
        },
        "outputId": "91901b73-686f-4c92-98d3-15952c4b9cb2"
      },
      "source": [
        "for data_batch, labels_batch in train_generator:\n",
        "     print('data batch shape:', data_batch.shape)\n",
        "     print('labels batch shape:', labels_batch.shape)\n",
        "     break"
      ],
      "execution_count": 242,
      "outputs": [
        {
          "output_type": "stream",
          "text": [
            "data batch shape: (20, 150, 150, 3)\n",
            "labels batch shape: (20, 5)\n"
          ],
          "name": "stdout"
        }
      ]
    },
    {
      "cell_type": "code",
      "metadata": {
        "id": "13ZMC8vrOmxk",
        "colab_type": "code",
        "colab": {
          "base_uri": "https://localhost:8080/",
          "height": 527
        },
        "outputId": "a8f21c79-0f1d-4fa4-ff2e-5177b6ee8d5a"
      },
      "source": [
        "# Training\n",
        "history = model.fit_generator(\n",
        "      train_generator,\n",
        "      steps_per_epoch=30,\n",
        "      epochs=15,\n",
        "      validation_data=validation_generator,\n",
        "      validation_steps=50)"
      ],
      "execution_count": 243,
      "outputs": [
        {
          "output_type": "stream",
          "text": [
            "Epoch 1/15\n",
            "30/30 [==============================] - 43s 1s/step - loss: 1.7503 - acc: 0.5150 - val_loss: 0.2894 - val_acc: 0.8000\n",
            "Epoch 2/15\n",
            "30/30 [==============================] - 42s 1s/step - loss: 0.5657 - acc: 0.8183 - val_loss: 0.2015 - val_acc: 0.9140\n",
            "Epoch 3/15\n",
            "30/30 [==============================] - 42s 1s/step - loss: 0.3337 - acc: 0.8600 - val_loss: 0.2236 - val_acc: 0.9980\n",
            "Epoch 4/15\n",
            "30/30 [==============================] - 41s 1s/step - loss: 0.3760 - acc: 0.8559 - val_loss: 0.1035 - val_acc: 0.8000\n",
            "Epoch 5/15\n",
            "30/30 [==============================] - 42s 1s/step - loss: 0.2492 - acc: 0.9017 - val_loss: 0.1341 - val_acc: 0.9480\n",
            "Epoch 6/15\n",
            "30/30 [==============================] - 42s 1s/step - loss: 0.3210 - acc: 0.8683 - val_loss: 0.1247 - val_acc: 0.8560\n",
            "Epoch 7/15\n",
            "30/30 [==============================] - 41s 1s/step - loss: 0.1544 - acc: 0.9300 - val_loss: 0.0445 - val_acc: 1.0000\n",
            "Epoch 8/15\n",
            "30/30 [==============================] - 45s 2s/step - loss: 0.2922 - acc: 0.9183 - val_loss: 0.0149 - val_acc: 1.0000\n",
            "Epoch 9/15\n",
            "30/30 [==============================] - 42s 1s/step - loss: 0.0958 - acc: 0.9567 - val_loss: 0.0122 - val_acc: 1.0000\n",
            "Epoch 10/15\n",
            "30/30 [==============================] - 41s 1s/step - loss: 0.2399 - acc: 0.9237 - val_loss: 0.6093 - val_acc: 0.8000\n",
            "Epoch 11/15\n",
            "30/30 [==============================] - 42s 1s/step - loss: 0.1864 - acc: 0.9617 - val_loss: 0.0020 - val_acc: 1.0000\n",
            "Epoch 12/15\n",
            "30/30 [==============================] - 42s 1s/step - loss: 0.0702 - acc: 0.9717 - val_loss: 1.5991e-04 - val_acc: 1.0000\n",
            "Epoch 13/15\n",
            "30/30 [==============================] - 42s 1s/step - loss: 0.2794 - acc: 0.9550 - val_loss: 8.3028e-06 - val_acc: 1.0000\n",
            "Epoch 14/15\n",
            "30/30 [==============================] - 41s 1s/step - loss: 0.0715 - acc: 0.9767 - val_loss: 4.5938e-04 - val_acc: 1.0000\n",
            "Epoch 15/15\n",
            "30/30 [==============================] - 41s 1s/step - loss: 0.2855 - acc: 0.9559 - val_loss: 4.2218e-04 - val_acc: 1.0000\n"
          ],
          "name": "stdout"
        }
      ]
    },
    {
      "cell_type": "code",
      "metadata": {
        "id": "Q9FewvtwOr52",
        "colab_type": "code",
        "colab": {}
      },
      "source": [
        "model.save(GDRIVEPATH+'fruits_trained.h5')"
      ],
      "execution_count": 244,
      "outputs": []
    },
    {
      "cell_type": "code",
      "metadata": {
        "id": "PmBHD9VYO1Rl",
        "colab_type": "code",
        "colab": {
          "base_uri": "https://localhost:8080/",
          "height": 545
        },
        "outputId": "cdb30452-0b33-440f-a1c8-a1fda42479fe"
      },
      "source": [
        "import matplotlib.pyplot as plt\n",
        "\n",
        "acc = history.history['acc']\n",
        "val_acc = history.history['val_acc']\n",
        "loss = history.history['loss']\n",
        "val_loss = history.history['val_loss']\n",
        "\n",
        "epochs = range(1, len(acc) + 1)\n",
        "\n",
        "plt.plot(epochs, acc, 'bo', label='Training acc')\n",
        "plt.plot(epochs, val_acc, 'b', label='Validation acc')\n",
        "plt.title('Training and validation accuracy')\n",
        "plt.legend()\n",
        "\n",
        "plt.figure()\n",
        "\n",
        "plt.plot(epochs, loss, 'ro', label='Training loss')\n",
        "plt.plot(epochs, val_loss, 'r', label='Validation loss')\n",
        "plt.title('Training and validation loss')\n",
        "plt.legend()\n",
        "\n",
        "plt.show()"
      ],
      "execution_count": 245,
      "outputs": [
        {
          "output_type": "display_data",
          "data": {
            "image/png": "[encoded data removed]",
            "text/plain": [
              "<Figure size 432x288 with 1 Axes>"
            ]
          },
          "metadata": {
            "tags": [],
            "needs_background": "light"
          }
        },
        {
          "output_type": "display_data",
          "data": {
            "image/png": "[encoded data removed]",
            "text/plain": [
              "<Figure size 432x288 with 1 Axes>"
            ]
          },
          "metadata": {
            "tags": [],
            "needs_background": "light"
          }
        }
      ]
    },
    {
      "cell_type": "code",
      "metadata": {
        "id": "tCBQTqrQLMfA",
        "colab_type": "code",
        "colab": {}
      },
      "source": [
        "# Importing and validating the new model\n",
        "model_dir = '/content/fruits-360-dataset/fruits-360fruits_trained.h5'\n",
        "\n",
        "# Loading the h5 file\n",
        "fruit_model = tf.keras.models.load_model(\n",
        "    model_dir,\n",
        "    custom_objects=None,\n",
        "    compile=True\n",
        ")"
      ],
      "execution_count": 246,
      "outputs": []
    },
    {
      "cell_type": "code",
      "metadata": {
        "id": "rdtBmDu4M8oC",
        "colab_type": "code",
        "colab": {
          "base_uri": "https://localhost:8080/",
          "height": 51
        },
        "outputId": "ede0d494-cc0f-4b09-fa33-cc05c96f8941"
      },
      "source": [
        "# Evaaluation of the model\n",
        "loss,acc = fruit_model.evaluate(validation_generator, verbose=2)\n",
        "print('Restored model, Accuracy: {:5.2f}%'.format(100*acc))"
      ],
      "execution_count": 247,
      "outputs": [
        {
          "output_type": "stream",
          "text": [
            "25/25 - 6s - loss: 4.1975e-04 - acc: 1.0000\n",
            "Restored model, Accuracy: 100.00%\n"
          ],
          "name": "stdout"
        }
      ]
    }
  ]
}