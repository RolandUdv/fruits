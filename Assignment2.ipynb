{
  "nbformat": 4,
  "nbformat_minor": 0,
  "metadata": {
    "colab": {
      "name": "Assignment2.ipynb",
      "provenance": [],
      "collapsed_sections": [],
      "toc_visible": true
    },
    "kernelspec": {
      "name": "python3",
      "display_name": "Python 3"
    }
  },
  "cells": [
    {
      "cell_type": "code",
      "metadata": {
        "id": "Nk2kOgrYK-Zi",
        "colab_type": "code",
        "colab": {}
      },
      "source": [
        "import tensorflow as tf\n",
        "from tensorflow.keras.optimizers import RMSprop\n",
        "import keras_preprocessing\n",
        "from keras_preprocessing import image\n",
        "from keras.preprocessing.image import ImageDataGenerator\n",
        "import matplotlib.pyplot as plt\n",
        "import matplotlib.image as mpimg\n",
        "import os"
      ],
      "execution_count": null,
      "outputs": []
    },
    {
      "cell_type": "code",
      "metadata": {
        "id": "ZsLAQubtLFH9",
        "colab_type": "code",
        "colab": {}
      },
      "source": [
        "# Unzip fruits folder\n",
        "!unzip -q '/content/drive/My Drive/fruits-5.zip'"
      ],
      "execution_count": null,
      "outputs": []
    },
    {
      "cell_type": "code",
      "metadata": {
        "id": "XV3SKvxdLOXE",
        "colab_type": "code",
        "colab": {}
      },
      "source": [
        "# GDRIVEPATH='/content/fruits-360_dataset/fruits-360'\n",
        "GDRIVEPATH='/content/fruits-360-dataset/fruits-360'"
      ],
      "execution_count": null,
      "outputs": []
    },
    {
      "cell_type": "code",
      "metadata": {
        "id": "aDd6R3IcL2Cx",
        "colab_type": "code",
        "colab": {}
      },
      "source": [
        "base_dir = GDRIVEPATH\n",
        "\n",
        "# Directories\n",
        "train_dir = os.path.join(base_dir, 'train')\n",
        "validation_dir = os.path.join(base_dir, 'validation')\n",
        "test_dir = os.path.join(base_dir, 'test')\n",
        "\n",
        "# Training\n",
        "train_apple_dir = os.path.join(train_dir, 'apple')\n",
        "train_banana_dir = os.path.join(train_dir, 'banana')\n",
        "train_cherry_dir = os.path.join(train_dir, 'cherry')\n",
        "train_grape_dir = os.path.join(train_dir, 'grape')\n",
        "train_peach_dir = os.path.join(train_dir, 'peach')\n",
        "# train_apple_dir = os.path.join(train_dir, 'Apple Red 1')\n",
        "# train_banana_dir = os.path.join(train_dir, 'Banana')\n",
        "# train_cherry_dir = os.path.join(train_dir, 'Cherry 1')\n",
        "# train_grape_dir = os.path.join(train_dir, 'Grape Blue')\n",
        "# train_kiwi_dir = os.path.join(train_dir, 'Kiwi')\n",
        "\n",
        "# Validation\n",
        "validation_apple_dir = os.path.join(validation_dir, 'apple')\n",
        "validation_banana_dir = os.path.join(validation_dir, 'banana')\n",
        "validation_cherry_dir = os.path.join(validation_dir, 'cherry')\n",
        "validation_grape_dir = os.path.join(validation_dir, 'grape')\n",
        "validation_peach_dir = os.path.join(validation_dir, 'peach')\n",
        "# validation_apple_dir = os.path.join(validation_dir, 'apple')\n",
        "# validation_banana_dir = os.path.join(validation_dir, 'Bananas(lady_finger)1')\n",
        "# validation_cherry_dir = os.path.join(validation_dir, 'cherries')\n",
        "# validation_grape_dir = os.path.join(validation_dir, 'grape_pear_mandarine')\n",
        "# validation_kiwi_dir = os.path.join(validation_dir, 'kiwi')\n",
        "\n",
        "# Test\n",
        "test_apple_dir = os.path.join(test_dir, 'apple')\n",
        "test_banana_dir = os.path.join(test_dir, 'banana')\n",
        "test_cherry_dir = os.path.join(test_dir, 'cherry')\n",
        "test_grape_dir = os.path.join(test_dir, 'grape')\n",
        "test_peach_dir = os.path.join(test_dir, 'peach')\n",
        "# test_apple_dir = os.path.join(test_dir, 'Apple Red 1')\n",
        "# test_banana_dir = os.path.join(test_dir, 'Banana')\n",
        "# test_cherry_dir = os.path.join(test_dir, 'Cherry')\n",
        "# test_grape_dir = os.path.join(test_dir, 'Grape Blue')\n",
        "# test_kiwi_dir = os.path.join(test_dir, 'Kiwi')\n"
      ],
      "execution_count": null,
      "outputs": []
    },
    {
      "cell_type": "code",
      "metadata": {
        "id": "uXdbhFshNV5G",
        "colab_type": "code",
        "colab": {
          "base_uri": "https://localhost:8080/",
          "height": 102
        },
        "outputId": "59740cb3-63c8-4690-f795-2980842fc80f"
      },
      "source": [
        "print('total training apple images:', len(os.listdir(train_apple_dir)))\n",
        "print('total training banana images:', len(os.listdir(train_banana_dir)))\n",
        "print('total training cherry images:', len(os.listdir(train_cherry_dir)))\n",
        "print('total training grape images:', len(os.listdir(train_grape_dir)))\n",
        "print('total training peach images:', len(os.listdir(train_peach_dir)))"
      ],
      "execution_count": null,
      "outputs": [
        {
          "output_type": "stream",
          "text": [
            "total training apple images: 493\n",
            "total training banana images: 491\n",
            "total training cherry images: 493\n",
            "total training grape images: 985\n",
            "total training peach images: 493\n"
          ],
          "name": "stdout"
        }
      ]
    },
    {
      "cell_type": "code",
      "metadata": {
        "id": "OmgLBSuRN6if",
        "colab_type": "code",
        "colab": {}
      },
      "source": [
        "# Building the network\n",
        "from keras import layers\n",
        "from keras import models\n",
        "\n",
        "model = models.Sequential()\n",
        "# First\n",
        "model.add(layers.Conv2D(32, (3, 3), activation='relu',\n",
        "                        input_shape=(150, 150, 3)))\n",
        "model.add(layers.MaxPooling2D((2, 2)))\n",
        "# Second\n",
        "model.add(layers.Conv2D(64, (3, 3), activation='relu'))\n",
        "model.add(layers.MaxPooling2D((2, 2)))\n",
        "# Third\n",
        "model.add(layers.Conv2D(128, (3, 3), activation='relu'))\n",
        "model.add(layers.MaxPooling2D((2, 2)))\n",
        "# Fourth\n",
        "model.add(layers.Conv2D(128, (3, 3), activation='relu'))\n",
        "model.add(layers.MaxPooling2D((2, 2)))\n",
        "# Fifth\n",
        "# model.add(layers.Conv2D(256, (3, 3), activation='relu'))\n",
        "# model.add(layers.MaxPooling2D((2, 2)))\n",
        "# Flatten and Dropout\n",
        "model.add(layers.Flatten())\n",
        "model.add(layers.Dropout(0.5))\n",
        "# 512 neurons in hidden layer\n",
        "model.add(layers.Dense(512, activation='relu'))\n",
        "# Output 5 categories\n",
        "model.add(layers.Dense(5, activation='softmax'))\n"
      ],
      "execution_count": null,
      "outputs": []
    },
    {
      "cell_type": "code",
      "metadata": {
        "id": "qLk_iV3XOMY_",
        "colab_type": "code",
        "colab": {
          "base_uri": "https://localhost:8080/",
          "height": 561
        },
        "outputId": "d0f95f34-2cc7-4f94-fb58-633515dce9fc"
      },
      "source": [
        "model.summary()"
      ],
      "execution_count": null,
      "outputs": [
        {
          "output_type": "stream",
          "text": [
            "Model: \"sequential_23\"\n",
            "_________________________________________________________________\n",
            "Layer (type)                 Output Shape              Param #   \n",
            "=================================================================\n",
            "conv2d_97 (Conv2D)           (None, 148, 148, 32)      896       \n",
            "_________________________________________________________________\n",
            "max_pooling2d_97 (MaxPooling (None, 74, 74, 32)        0         \n",
            "_________________________________________________________________\n",
            "conv2d_98 (Conv2D)           (None, 72, 72, 64)        18496     \n",
            "_________________________________________________________________\n",
            "max_pooling2d_98 (MaxPooling (None, 36, 36, 64)        0         \n",
            "_________________________________________________________________\n",
            "conv2d_99 (Conv2D)           (None, 34, 34, 128)       73856     \n",
            "_________________________________________________________________\n",
            "max_pooling2d_99 (MaxPooling (None, 17, 17, 128)       0         \n",
            "_________________________________________________________________\n",
            "conv2d_100 (Conv2D)          (None, 15, 15, 128)       147584    \n",
            "_________________________________________________________________\n",
            "max_pooling2d_100 (MaxPoolin (None, 7, 7, 128)         0         \n",
            "_________________________________________________________________\n",
            "flatten_23 (Flatten)         (None, 6272)              0         \n",
            "_________________________________________________________________\n",
            "dropout_10 (Dropout)         (None, 6272)              0         \n",
            "_________________________________________________________________\n",
            "dense_45 (Dense)             (None, 512)               3211776   \n",
            "_________________________________________________________________\n",
            "dense_46 (Dense)             (None, 5)                 2565      \n",
            "=================================================================\n",
            "Total params: 3,455,173\n",
            "Trainable params: 3,455,173\n",
            "Non-trainable params: 0\n",
            "_________________________________________________________________\n"
          ],
          "name": "stdout"
        }
      ]
    },
    {
      "cell_type": "code",
      "metadata": {
        "id": "G-VKSIThORAV",
        "colab_type": "code",
        "colab": {}
      },
      "source": [
        "# Selecting categorical_crossentropy as a loss function and RMSprop optimizer\n",
        "from keras import optimizers\n",
        "\n",
        "model.compile(loss = 'categorical_crossentropy', optimizer='rmsprop', metrics=['acc'])\n"
      ],
      "execution_count": null,
      "outputs": []
    },
    {
      "cell_type": "code",
      "metadata": {
        "id": "CJT9ipNnOUUm",
        "colab_type": "code",
        "colab": {
          "base_uri": "https://localhost:8080/",
          "height": 51
        },
        "outputId": "19894153-7271-41f2-b681-e119fd17c670"
      },
      "source": [
        "# Data Augmentation\n",
        "from keras.preprocessing.image import ImageDataGenerator\n",
        "\n",
        "train_datagen = ImageDataGenerator(\n",
        "    rescale=1./255,\n",
        "    rotation_range=40,\n",
        "    width_shift_range=0.2,\n",
        "    height_shift_range=0.2,\n",
        "    shear_range=0.2,\n",
        "    zoom_range=0.2,\n",
        "    horizontal_flip=True,)\n",
        "\n",
        "# train_datagen = ImageDataGenerator(rescale=1./255)\n",
        "\n",
        "test_datagen = ImageDataGenerator(rescale=1./255)\n",
        "\n",
        "train_generator = train_datagen.flow_from_directory(\n",
        "        train_dir,\n",
        "        target_size=(150, 150),\n",
        "        batch_size=20)\n",
        "        # class_mode='binary')\n",
        "\n",
        "validation_generator = test_datagen.flow_from_directory(\n",
        "        # test_dir,\n",
        "        validation_dir,\n",
        "        target_size=(150, 150),\n",
        "        batch_size=20)\n",
        "        # class_mode='binary')\n"
      ],
      "execution_count": null,
      "outputs": [
        {
          "output_type": "stream",
          "text": [
            "Found 2950 images belonging to 5 classes.\n",
            "Found 500 images belonging to 5 classes.\n"
          ],
          "name": "stdout"
        }
      ]
    },
    {
      "cell_type": "code",
      "metadata": {
        "id": "YIdDmbs6Odt3",
        "colab_type": "code",
        "colab": {
          "base_uri": "https://localhost:8080/",
          "height": 51
        },
        "outputId": "0f9130b5-1fcc-4c1d-8966-e0951cddb734"
      },
      "source": [
        "for data_batch, labels_batch in train_generator:\n",
        "     print('data batch shape:', data_batch.shape)\n",
        "     print('labels batch shape:', labels_batch.shape)\n",
        "     break"
      ],
      "execution_count": null,
      "outputs": [
        {
          "output_type": "stream",
          "text": [
            "data batch shape: (20, 150, 150, 3)\n",
            "labels batch shape: (20, 5)\n"
          ],
          "name": "stdout"
        }
      ]
    },
    {
      "cell_type": "code",
      "metadata": {
        "id": "13ZMC8vrOmxk",
        "colab_type": "code",
        "colab": {
          "base_uri": "https://localhost:8080/",
          "height": 357
        },
        "outputId": "ac9b3a2e-c463-4448-d64c-ca61f4a628ce"
      },
      "source": [
        "# Training\n",
        "history = model.fit_generator(\n",
        "      train_generator,\n",
        "      steps_per_epoch=25,\n",
        "      epochs=10,\n",
        "      validation_data=validation_generator,\n",
        "      validation_steps=50)"
      ],
      "execution_count": null,
      "outputs": [
        {
          "output_type": "stream",
          "text": [
            "Epoch 1/10\n",
            "25/25 [==============================] - 39s 2s/step - loss: 1.6044 - acc: 0.4960 - val_loss: 0.5709 - val_acc: 0.8340\n",
            "Epoch 2/10\n",
            "25/25 [==============================] - 37s 1s/step - loss: 0.4317 - acc: 0.7898 - val_loss: 0.2065 - val_acc: 0.8000\n",
            "Epoch 3/10\n",
            "25/25 [==============================] - 37s 1s/step - loss: 0.3253 - acc: 0.8400 - val_loss: 0.1719 - val_acc: 0.8320\n",
            "Epoch 4/10\n",
            "25/25 [==============================] - 37s 1s/step - loss: 0.7220 - acc: 0.8120 - val_loss: 0.3045 - val_acc: 0.8000\n",
            "Epoch 5/10\n",
            "25/25 [==============================] - 37s 1s/step - loss: 0.2885 - acc: 0.8380 - val_loss: 0.0517 - val_acc: 1.0000\n",
            "Epoch 6/10\n",
            "25/25 [==============================] - 37s 1s/step - loss: 0.2355 - acc: 0.8980 - val_loss: 0.0636 - val_acc: 1.0000\n",
            "Epoch 7/10\n",
            "25/25 [==============================] - 37s 1s/step - loss: 0.2351 - acc: 0.9180 - val_loss: 0.0738 - val_acc: 1.0000\n",
            "Epoch 8/10\n",
            "25/25 [==============================] - 37s 1s/step - loss: 0.2348 - acc: 0.9122 - val_loss: 0.0326 - val_acc: 1.0000\n",
            "Epoch 9/10\n",
            "25/25 [==============================] - 37s 1s/step - loss: 0.4113 - acc: 0.9240 - val_loss: 0.0234 - val_acc: 1.0000\n",
            "Epoch 10/10\n",
            "25/25 [==============================] - 37s 1s/step - loss: 0.1173 - acc: 0.9540 - val_loss: 0.0137 - val_acc: 1.0000\n"
          ],
          "name": "stdout"
        }
      ]
    },
    {
      "cell_type": "code",
      "metadata": {
        "id": "Q9FewvtwOr52",
        "colab_type": "code",
        "colab": {}
      },
      "source": [
        "model.save(GDRIVEPATH+'fruits_trained.h5')"
      ],
      "execution_count": null,
      "outputs": []
    },
    {
      "cell_type": "code",
      "metadata": {
        "id": "PmBHD9VYO1Rl",
        "colab_type": "code",
        "colab": {
          "base_uri": "https://localhost:8080/",
          "height": 545
        },
        "outputId": "5ffa1dc0-0288-44c8-b611-71fd3ceccd0b"
      },
      "source": [
        "import matplotlib.pyplot as plt\n",
        "\n",
        "acc = history.history['acc']\n",
        "val_acc = history.history['val_acc']\n",
        "loss = history.history['loss']\n",
        "val_loss = history.history['val_loss']\n",
        "\n",
        "# results = model.evauluate(history.history['loss'], history.history['val_acc'])\n",
        "\n",
        "# model.predict(test_dir)\n",
        "\n",
        "epochs = range(1, len(acc) + 1)\n",
        "\n",
        "plt.plot(epochs, acc, 'bo', label='Training acc')\n",
        "plt.plot(epochs, val_acc, 'b', label='Validation acc')\n",
        "plt.title('Training and validation accuracy')\n",
        "plt.legend()\n",
        "\n",
        "plt.figure()\n",
        "\n",
        "plt.plot(epochs, loss, 'bo', label='Training loss')\n",
        "plt.plot(epochs, val_loss, 'b', label='Validation loss')\n",
        "plt.title('Training and validation loss')\n",
        "plt.legend()\n",
        "\n",
        "plt.show()"
      ],
      "execution_count": null,
      "outputs": [
        {
          "output_type": "display_data",
          "data": {
            "image/png": "[encoded data removed]",
            "text/plain": [
              "<Figure size 432x288 with 1 Axes>"
            ]
          },
          "metadata": {
            "tags": [],
            "needs_background": "light"
          }
        },
        {
          "output_type": "display_data",
          "data": {
            "image/png": "[encoded data removed]",
            "text/plain": [
              "<Figure size 432x288 with 1 Axes>"
            ]
          },
          "metadata": {
            "tags": [],
            "needs_background": "light"
          }
        }
      ]
    }
  ]
}