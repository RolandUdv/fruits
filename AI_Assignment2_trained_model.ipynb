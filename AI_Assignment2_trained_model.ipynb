{
  "nbformat": 4,
  "nbformat_minor": 0,
  "metadata": {
    "colab": {
      "name": "AI Assignment2 trained model.ipynb",
      "provenance": [],
      "collapsed_sections": [],
      "toc_visible": true
    },
    "kernelspec": {
      "name": "python3",
      "display_name": "Python 3"
    }
  },
  "cells": [
    {
      "cell_type": "code",
      "metadata": {
        "id": "Nk2kOgrYK-Zi",
        "colab_type": "code",
        "colab": {}
      },
      "source": [
        "import tensorflow as tf\n",
        "from tensorflow.keras.optimizers import RMSprop\n",
        "import keras_preprocessing\n",
        "from keras_preprocessing import image\n",
        "from keras.preprocessing.image import ImageDataGenerator\n",
        "import matplotlib.pyplot as plt\n",
        "import matplotlib.image as mpimg\n",
        "import os"
      ],
      "execution_count": null,
      "outputs": []
    },
    {
      "cell_type": "code",
      "metadata": {
        "id": "ZsLAQubtLFH9",
        "colab_type": "code",
        "colab": {
          "base_uri": "https://localhost:8080/",
          "height": 34
        },
        "outputId": "5ffa05f8-7aa0-41ff-d59f-4f6442f841fe"
      },
      "source": [
        "# Unzip fruits folder\n",
        "!unzip -q '/content/drive/My Drive/fruits-5.zip'"
      ],
      "execution_count": null,
      "outputs": [
        {
          "output_type": "stream",
          "text": [
            "replace fruits-360-dataset/.DS_Store? [y]es, [n]o, [A]ll, [N]one, [r]ename: A\n"
          ],
          "name": "stdout"
        }
      ]
    },
    {
      "cell_type": "code",
      "metadata": {
        "id": "XV3SKvxdLOXE",
        "colab_type": "code",
        "colab": {}
      },
      "source": [
        "# GDRIVEPATH='/content/fruits-360_dataset/fruits-360'\n",
        "GDRIVEPATH='/content/fruits-360-dataset/fruits-360'"
      ],
      "execution_count": null,
      "outputs": []
    },
    {
      "cell_type": "code",
      "metadata": {
        "id": "aDd6R3IcL2Cx",
        "colab_type": "code",
        "colab": {}
      },
      "source": [
        "base_dir = GDRIVEPATH\n",
        "\n",
        "# Directories\n",
        "train_dir = os.path.join(base_dir, 'train')\n",
        "validation_dir = os.path.join(base_dir, 'validation')\n",
        "test_dir = os.path.join(base_dir, 'test')\n",
        "\n",
        "# Training\n",
        "train_apple_dir = os.path.join(train_dir, 'apple')\n",
        "train_banana_dir = os.path.join(train_dir, 'banana')\n",
        "train_cherry_dir = os.path.join(train_dir, 'cherry')\n",
        "train_grape_dir = os.path.join(train_dir, 'grape')\n",
        "train_peach_dir = os.path.join(train_dir, 'peach')\n",
        "\n",
        "# Validation\n",
        "validation_apple_dir = os.path.join(validation_dir, 'apple')\n",
        "validation_banana_dir = os.path.join(validation_dir, 'banana')\n",
        "validation_cherry_dir = os.path.join(validation_dir, 'cherry')\n",
        "validation_grape_dir = os.path.join(validation_dir, 'grape')\n",
        "validation_peach_dir = os.path.join(validation_dir, 'peach')\n",
        "\n",
        "# Test\n",
        "test_apple_dir = os.path.join(test_dir, 'apple')\n",
        "test_banana_dir = os.path.join(test_dir, 'banana')\n",
        "test_cherry_dir = os.path.join(test_dir, 'cherry')\n",
        "test_grape_dir = os.path.join(test_dir, 'grape')\n",
        "test_peach_dir = os.path.join(test_dir, 'peach')\n"
      ],
      "execution_count": null,
      "outputs": []
    },
    {
      "cell_type": "code",
      "metadata": {
        "id": "uXdbhFshNV5G",
        "colab_type": "code",
        "colab": {
          "base_uri": "https://localhost:8080/",
          "height": 102
        },
        "outputId": "a917b166-7496-4844-e910-ba7c492d6027"
      },
      "source": [
        "print('total training apple images:', len(os.listdir(train_apple_dir)))\n",
        "print('total training banana images:', len(os.listdir(train_banana_dir)))\n",
        "print('total training cherry images:', len(os.listdir(train_cherry_dir)))\n",
        "print('total training grape images:', len(os.listdir(train_grape_dir)))\n",
        "print('total training peach images:', len(os.listdir(train_peach_dir)))"
      ],
      "execution_count": null,
      "outputs": [
        {
          "output_type": "stream",
          "text": [
            "total training apple images: 493\n",
            "total training banana images: 491\n",
            "total training cherry images: 493\n",
            "total training grape images: 985\n",
            "total training peach images: 493\n"
          ],
          "name": "stdout"
        }
      ]
    },
    {
      "cell_type": "code",
      "metadata": {
        "id": "kOOga4r-Eenn",
        "colab_type": "code",
        "colab": {
          "base_uri": "https://localhost:8080/",
          "height": 68
        },
        "outputId": "8b5bcca7-1b5d-4b03-99fc-ac76e54a6988"
      },
      "source": [
        "# Print first 10 images from directories to verify contents\n",
        "\n",
        "apple_train_dir_names = os.listdir(train_apple_dir)\n",
        "apple_validation_dir_names = os.listdir(validation_apple_dir)\n",
        "apple_test_dir_names = os.listdir(test_apple_dir)\n",
        "\n",
        "print('Training: ', apple_train_dir_names[:10])\n",
        "print('Validation: ',apple_validation_dir_names[:10])\n",
        "print('Test: ',apple_test_dir_names[:10])"
      ],
      "execution_count": null,
      "outputs": [
        {
          "output_type": "stream",
          "text": [
            "Training:  ['284_100.jpg', 'r_283_100.jpg', '305_100.jpg', 'r_246_100.jpg', 'r_159_100.jpg', 'r_128_100.jpg', '309_100.jpg', 'r_318_100.jpg', 'r_225_100.jpg', 'r_160_100.jpg']\n",
            "Validation:  ['129_100.jpg', '109_100.jpg', '173_100.jpg', '146_100.jpg', '160_100.jpg', '121_100.jpg', '154_100.jpg', '23_100.jpg', '170_100.jpg', '102_100.jpg']\n",
            "Test:  ['r_4_100.jpg', '55_100.jpg', 'r_72_100.jpg', 'r_8_100.jpg', 'r_97_100.jpg', 'r_38_100.jpg', '38_100.jpg', 'r_39_100.jpg', '36_100.jpg', 'r_62_100.jpg']\n"
          ],
          "name": "stdout"
        }
      ]
    },
    {
      "cell_type": "code",
      "metadata": {
        "id": "OmgLBSuRN6if",
        "colab_type": "code",
        "colab": {}
      },
      "source": [
        "# Building the network\n",
        "from keras import layers\n",
        "from keras import models\n",
        "\n",
        "model = models.Sequential()\n",
        "# First\n",
        "model.add(layers.Conv2D(32, (3, 3), activation='relu',\n",
        "                        input_shape=(150, 150, 3)))\n",
        "model.add(layers.MaxPooling2D((2, 2)))\n",
        "# Second\n",
        "model.add(layers.Conv2D(64, (3, 3), activation='relu'))\n",
        "model.add(layers.MaxPooling2D((2, 2)))\n",
        "# Third\n",
        "model.add(layers.Conv2D(128, (3, 3), activation='relu'))\n",
        "model.add(layers.MaxPooling2D((2, 2)))\n",
        "# Fourth\n",
        "model.add(layers.Conv2D(128, (3, 3), activation='relu'))\n",
        "model.add(layers.MaxPooling2D((2, 2)))\n",
        "# Fifth\n",
        "# model.add(layers.Conv2D(256, (3, 3), activation='relu'))\n",
        "# model.add(layers.MaxPooling2D((2, 2)))\n",
        "# Flatten and Dropout\n",
        "model.add(layers.Flatten())\n",
        "model.add(layers.Dropout(0.5))\n",
        "# 512 neurons in hidden layer\n",
        "model.add(layers.Dense(512, activation='relu'))\n",
        "# Output 5 categories\n",
        "model.add(layers.Dense(5, activation='softmax'))\n"
      ],
      "execution_count": null,
      "outputs": []
    },
    {
      "cell_type": "code",
      "metadata": {
        "id": "qLk_iV3XOMY_",
        "colab_type": "code",
        "colab": {
          "base_uri": "https://localhost:8080/",
          "height": 561
        },
        "outputId": "e79fbb1c-de7b-45a0-ad7e-3eedf5fa70b8"
      },
      "source": [
        "model.summary()"
      ],
      "execution_count": null,
      "outputs": [
        {
          "output_type": "stream",
          "text": [
            "Model: \"sequential_24\"\n",
            "_________________________________________________________________\n",
            "Layer (type)                 Output Shape              Param #   \n",
            "=================================================================\n",
            "conv2d_101 (Conv2D)          (None, 148, 148, 32)      896       \n",
            "_________________________________________________________________\n",
            "max_pooling2d_101 (MaxPoolin (None, 74, 74, 32)        0         \n",
            "_________________________________________________________________\n",
            "conv2d_102 (Conv2D)          (None, 72, 72, 64)        18496     \n",
            "_________________________________________________________________\n",
            "max_pooling2d_102 (MaxPoolin (None, 36, 36, 64)        0         \n",
            "_________________________________________________________________\n",
            "conv2d_103 (Conv2D)          (None, 34, 34, 128)       73856     \n",
            "_________________________________________________________________\n",
            "max_pooling2d_103 (MaxPoolin (None, 17, 17, 128)       0         \n",
            "_________________________________________________________________\n",
            "conv2d_104 (Conv2D)          (None, 15, 15, 128)       147584    \n",
            "_________________________________________________________________\n",
            "max_pooling2d_104 (MaxPoolin (None, 7, 7, 128)         0         \n",
            "_________________________________________________________________\n",
            "flatten_24 (Flatten)         (None, 6272)              0         \n",
            "_________________________________________________________________\n",
            "dropout_11 (Dropout)         (None, 6272)              0         \n",
            "_________________________________________________________________\n",
            "dense_47 (Dense)             (None, 512)               3211776   \n",
            "_________________________________________________________________\n",
            "dense_48 (Dense)             (None, 5)                 2565      \n",
            "=================================================================\n",
            "Total params: 3,455,173\n",
            "Trainable params: 3,455,173\n",
            "Non-trainable params: 0\n",
            "_________________________________________________________________\n"
          ],
          "name": "stdout"
        }
      ]
    },
    {
      "cell_type": "code",
      "metadata": {
        "id": "G-VKSIThORAV",
        "colab_type": "code",
        "colab": {}
      },
      "source": [
        "# Selecting categorical_crossentropy as a loss function and RMSprop optimizer\n",
        "from keras import optimizers\n",
        "\n",
        "model.compile(loss = 'categorical_crossentropy', optimizer='rmsprop', metrics=['acc'])\n"
      ],
      "execution_count": null,
      "outputs": []
    },
    {
      "cell_type": "code",
      "metadata": {
        "id": "CJT9ipNnOUUm",
        "colab_type": "code",
        "colab": {
          "base_uri": "https://localhost:8080/",
          "height": 51
        },
        "outputId": "d46c06fb-4c65-4b59-f214-72595fc41390"
      },
      "source": [
        "# Data Augmentation\n",
        "from keras.preprocessing.image import ImageDataGenerator\n",
        "\n",
        "train_datagen = ImageDataGenerator(\n",
        "    rescale=1./255,\n",
        "    rotation_range=40,\n",
        "    width_shift_range=0.2,\n",
        "    height_shift_range=0.2,\n",
        "    shear_range=0.2,\n",
        "    zoom_range=0.2,\n",
        "    horizontal_flip=True,)\n",
        "\n",
        "# train_datagen = ImageDataGenerator(rescale=1./255)\n",
        "\n",
        "test_datagen = ImageDataGenerator(rescale=1./255)\n",
        "\n",
        "train_generator = train_datagen.flow_from_directory(\n",
        "        train_dir,\n",
        "        target_size=(150, 150),\n",
        "        batch_size=20)\n",
        "        # class_mode='binary')\n",
        "\n",
        "validation_generator = test_datagen.flow_from_directory(\n",
        "        validation_dir,\n",
        "        target_size=(150, 150),\n",
        "        batch_size=20)\n",
        "        # class_mode='binary')\n"
      ],
      "execution_count": null,
      "outputs": [
        {
          "output_type": "stream",
          "text": [
            "Found 2950 images belonging to 5 classes.\n",
            "Found 500 images belonging to 5 classes.\n"
          ],
          "name": "stdout"
        }
      ]
    },
    {
      "cell_type": "code",
      "metadata": {
        "id": "YIdDmbs6Odt3",
        "colab_type": "code",
        "colab": {
          "base_uri": "https://localhost:8080/",
          "height": 51
        },
        "outputId": "7f19a508-d459-44d3-f4d9-07d8ec02e776"
      },
      "source": [
        "for data_batch, labels_batch in train_generator:\n",
        "     print('data batch shape:', data_batch.shape)\n",
        "     print('labels batch shape:', labels_batch.shape)\n",
        "     break"
      ],
      "execution_count": null,
      "outputs": [
        {
          "output_type": "stream",
          "text": [
            "data batch shape: (20, 150, 150, 3)\n",
            "labels batch shape: (20, 5)\n"
          ],
          "name": "stdout"
        }
      ]
    },
    {
      "cell_type": "code",
      "metadata": {
        "id": "13ZMC8vrOmxk",
        "colab_type": "code",
        "colab": {
          "base_uri": "https://localhost:8080/",
          "height": 867
        },
        "outputId": "605f64bc-41eb-4050-be20-db48712b3888"
      },
      "source": [
        "# Training\n",
        "history = model.fit_generator(\n",
        "      train_generator,\n",
        "      steps_per_epoch=50,\n",
        "      epochs=25,\n",
        "      validation_data=validation_generator,\n",
        "      validation_steps=50)"
      ],
      "execution_count": null,
      "outputs": [
        {
          "output_type": "stream",
          "text": [
            "Epoch 1/25\n",
            "50/50 [==============================] - 63s 1s/step - loss: 1.0183 - acc: 0.5990 - val_loss: 0.3325 - val_acc: 0.8620\n",
            "Epoch 2/25\n",
            "50/50 [==============================] - 61s 1s/step - loss: 0.4195 - acc: 0.8110 - val_loss: 0.2374 - val_acc: 0.8000\n",
            "Epoch 3/25\n",
            "50/50 [==============================] - 60s 1s/step - loss: 0.2875 - acc: 0.8404 - val_loss: 3.4384 - val_acc: 0.2000\n",
            "Epoch 4/25\n",
            "50/50 [==============================] - 66s 1s/step - loss: 0.3807 - acc: 0.8720 - val_loss: 0.0209 - val_acc: 1.0000\n",
            "Epoch 5/25\n",
            "50/50 [==============================] - 60s 1s/step - loss: 0.2717 - acc: 0.9070 - val_loss: 0.0478 - val_acc: 1.0000\n",
            "Epoch 6/25\n",
            "50/50 [==============================] - 60s 1s/step - loss: 0.2875 - acc: 0.9293 - val_loss: 0.0026 - val_acc: 1.0000\n",
            "Epoch 7/25\n",
            "50/50 [==============================] - 60s 1s/step - loss: 0.1271 - acc: 0.9515 - val_loss: 0.0042 - val_acc: 1.0000\n",
            "Epoch 8/25\n",
            "50/50 [==============================] - 60s 1s/step - loss: 0.1125 - acc: 0.9660 - val_loss: 2.3532e-04 - val_acc: 1.0000\n",
            "Epoch 9/25\n",
            "50/50 [==============================] - 61s 1s/step - loss: 0.0992 - acc: 0.9740 - val_loss: 5.2292e-04 - val_acc: 1.0000\n",
            "Epoch 10/25\n",
            "50/50 [==============================] - 61s 1s/step - loss: 0.5097 - acc: 0.9424 - val_loss: 2.8357e-04 - val_acc: 1.0000\n",
            "Epoch 11/25\n",
            "50/50 [==============================] - 61s 1s/step - loss: 0.0654 - acc: 0.9780 - val_loss: 2.9683e-06 - val_acc: 1.0000\n",
            "Epoch 12/25\n",
            "50/50 [==============================] - 60s 1s/step - loss: 0.0726 - acc: 0.9810 - val_loss: 1.7343e-04 - val_acc: 1.0000\n",
            "Epoch 13/25\n",
            "50/50 [==============================] - 60s 1s/step - loss: 0.0888 - acc: 0.9740 - val_loss: 2.5630e-07 - val_acc: 1.0000\n",
            "Epoch 14/25\n",
            "50/50 [==============================] - 64s 1s/step - loss: 0.0496 - acc: 0.9859 - val_loss: 2.6226e-07 - val_acc: 1.0000\n",
            "Epoch 15/25\n",
            "50/50 [==============================] - 60s 1s/step - loss: 0.0826 - acc: 0.9820 - val_loss: 9.2123e-05 - val_acc: 1.0000\n",
            "Epoch 16/25\n",
            "50/50 [==============================] - 60s 1s/step - loss: 0.0842 - acc: 0.9830 - val_loss: 3.0487e-05 - val_acc: 1.0000\n",
            "Epoch 17/25\n",
            "50/50 [==============================] - 60s 1s/step - loss: 0.0893 - acc: 0.9848 - val_loss: 1.1325e-06 - val_acc: 1.0000\n",
            "Epoch 18/25\n",
            "50/50 [==============================] - 60s 1s/step - loss: 0.0723 - acc: 0.9900 - val_loss: 0.0024 - val_acc: 1.0000\n",
            "Epoch 19/25\n",
            "50/50 [==============================] - 60s 1s/step - loss: 0.0301 - acc: 0.9930 - val_loss: 1.7881e-08 - val_acc: 1.0000\n",
            "Epoch 20/25\n",
            "50/50 [==============================] - 60s 1s/step - loss: 0.0363 - acc: 0.9879 - val_loss: 0.0000e+00 - val_acc: 1.0000\n",
            "Epoch 21/25\n",
            "50/50 [==============================] - 61s 1s/step - loss: 0.0833 - acc: 0.9870 - val_loss: 0.0065 - val_acc: 0.9440\n",
            "Epoch 22/25\n",
            "50/50 [==============================] - 61s 1s/step - loss: 0.0736 - acc: 0.9850 - val_loss: 3.6359e-07 - val_acc: 1.0000\n",
            "Epoch 23/25\n",
            "50/50 [==============================] - 60s 1s/step - loss: 0.0441 - acc: 0.9939 - val_loss: 1.1921e-08 - val_acc: 1.0000\n",
            "Epoch 24/25\n",
            "50/50 [==============================] - 64s 1s/step - loss: 0.0588 - acc: 0.9870 - val_loss: 0.0000e+00 - val_acc: 1.0000\n",
            "Epoch 25/25\n",
            "50/50 [==============================] - 61s 1s/step - loss: 0.1780 - acc: 0.9780 - val_loss: 3.5763e-08 - val_acc: 1.0000\n"
          ],
          "name": "stdout"
        }
      ]
    },
    {
      "cell_type": "code",
      "metadata": {
        "id": "Q9FewvtwOr52",
        "colab_type": "code",
        "colab": {}
      },
      "source": [
        "model.save(GDRIVEPATH+'fruits_trained.h5')"
      ],
      "execution_count": null,
      "outputs": []
    },
    {
      "cell_type": "code",
      "metadata": {
        "id": "PmBHD9VYO1Rl",
        "colab_type": "code",
        "colab": {
          "base_uri": "https://localhost:8080/",
          "height": 545
        },
        "outputId": "b29899b5-e293-40b8-8763-40b427d4d616"
      },
      "source": [
        "import matplotlib.pyplot as plt\n",
        "\n",
        "acc = history.history['acc']\n",
        "val_acc = history.history['val_acc']\n",
        "loss = history.history['loss']\n",
        "val_loss = history.history['val_loss']\n",
        "\n",
        "epochs = range(1, len(acc) + 1)\n",
        "\n",
        "plt.plot(epochs, acc, 'bo', label='Training acc')\n",
        "plt.plot(epochs, val_acc, 'b', label='Validation acc')\n",
        "plt.title('Training and validation accuracy')\n",
        "plt.legend()\n",
        "\n",
        "plt.figure()\n",
        "\n",
        "plt.plot(epochs, loss, 'bo', label='Training loss')\n",
        "plt.plot(epochs, val_loss, 'b', label='Validation loss')\n",
        "plt.title('Training and validation loss')\n",
        "plt.legend()\n",
        "\n",
        "plt.show()"
      ],
      "execution_count": null,
      "outputs": [
        {
          "output_type": "display_data",
          "data": {
            "image/png": "[encoded data removed]",
            "text/plain": [
              "<Figure size 432x288 with 1 Axes>"
            ]
          },
          "metadata": {
            "tags": [],
            "needs_background": "light"
          }
        },
        {
          "output_type": "display_data",
          "data": {
            "image/png": "[encoded data removed]",
            "text/plain": [
              "<Figure size 432x288 with 1 Axes>"
            ]
          },
          "metadata": {
            "tags": [],
            "needs_background": "light"
          }
        }
      ]
    }
  ]
}