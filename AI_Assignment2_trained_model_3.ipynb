{
  "nbformat": 4,
  "nbformat_minor": 0,
  "metadata": {
    "colab": {
      "name": "Assignment2.ipynb",
      "provenance": [],
      "collapsed_sections": [],
      "toc_visible": true
    },
    "kernelspec": {
      "name": "python3",
      "display_name": "Python 3"
    }
  },
  "cells": [
    {
      "cell_type": "markdown",
      "metadata": {
        "id": "jbuYGJyGS3tt",
        "colab_type": "text"
      },
      "source": [
        "# **CSY3025 Artificial Intelligence Techniques**\n",
        "## **Assignment 2 – Image Classification using Deep Learning**\n",
        "\n",
        "In supermarkets, customers often need to manually select fruit and\n",
        "vegetables at the self-checkout as shown in the image below.\n",
        "\n",
        "You are asked to join a team of engineers to develop a solution to automate the process of fruit/vegetable selection. A customer would place one type of fruit/vegetable at a time in a designated area before an overhead camera takes an image. Your task is to develop an image classifier that names the item in the image (from known categories). Your classifier needs to recognise **5 different fruit/vegetables** of your choice.\n",
        "\n",
        "To complete the task, you must study the problem space, collect image dataset, train a deep learning classifier, and use appropriate method to showcase/visualise the performance of your classifier.\n",
        "\n",
        "### **The deliverables of the assignments include:**\n",
        "1. A working deep learning model implemented using TensorFlow\n",
        "and Python. You must submit a Python notebook file (.ipynb) with all outputs saved.\n",
        " \n",
        "\n",
        "2. A report that includes but not limited to the following sections:\n",
        "*   **a. Cover page**\n",
        "*    i. [optional] If your file size is larger than what’s permitted by the Turnitin submission point, then include a download link to your dataset (one drive, github, etc.)\n",
        "*    ii. A link to a 5-minute demo video (e.g., screen recording) that walks through your design/implementation\n",
        "*   **b. Introduction**\n",
        "*   **c. Problem analysis and background research**\n",
        "*   **d. Building deep learning network (explain how you make\n",
        "choices at each following step)**\n",
        "*   i. Dataset\n",
        "*   ii. Network (structure, loss function, optimiser, etc.)\n",
        "*   iii. Training and evaluation\n",
        "*   iv. Testing\n",
        "*   **e. Summary of additional features (if applies)**\n",
        "*   **f. Discussions and conclusions**\n",
        "*   i. Lessons learned\n",
        "*   ii. Limitations\n",
        "*   **g. Reference**\n",
        "\n",
        "### **The marking will be based on:**\n",
        "The marking will be based on:\n",
        "1. 20% Problem analysis and background research\n",
        "(demonstrate your general knowledge of deep learning and the\n",
        "application scenario)\n",
        "2. 30% Design (Architectural design of your application,\n",
        "construction of dataset, test plans, etc. including additional features such as extra categories, exceptional model performance, user interface, etc.)\n",
        "3. 40% Implementation (completion of the model, reasonable performance, and additional features)\n",
        "4. 10% Report quality (quality of technical writing)"
      ]
    },
    {
      "cell_type": "code",
      "metadata": {
        "id": "Nk2kOgrYK-Zi",
        "colab_type": "code",
        "colab": {}
      },
      "source": [
        "# Imports\n",
        "import tensorflow as tf\n",
        "from tensorflow.keras.optimizers import RMSprop\n",
        "import keras_preprocessing\n",
        "from keras_preprocessing import image\n",
        "from keras.preprocessing.image import ImageDataGenerator\n",
        "import matplotlib.pyplot as plt\n",
        "import matplotlib.image as mpimg\n",
        "import os"
      ],
      "execution_count": 26,
      "outputs": []
    },
    {
      "cell_type": "code",
      "metadata": {
        "id": "ZsLAQubtLFH9",
        "colab_type": "code",
        "colab": {}
      },
      "source": [
        "# Unzip fruits folder\n",
        "!unzip -q '/content/drive/My Drive/fruits-5.zip'"
      ],
      "execution_count": 18,
      "outputs": []
    },
    {
      "cell_type": "code",
      "metadata": {
        "id": "XV3SKvxdLOXE",
        "colab_type": "code",
        "colab": {}
      },
      "source": [
        "# GDRIVEPATH='/content/fruits-360_dataset/fruits-360'\n",
        "GDRIVEPATH='/content/fruits-360-dataset/fruits-360'"
      ],
      "execution_count": 27,
      "outputs": []
    },
    {
      "cell_type": "code",
      "metadata": {
        "id": "aDd6R3IcL2Cx",
        "colab_type": "code",
        "colab": {}
      },
      "source": [
        "# Base directory variable\n",
        "base_dir = GDRIVEPATH\n",
        "\n",
        "# Directories\n",
        "train_dir = os.path.join(base_dir, 'train')\n",
        "validation_dir = os.path.join(base_dir, 'validation')\n",
        "test_dir = os.path.join(base_dir, 'test')\n",
        "\n",
        "# Training\n",
        "train_apple_dir = os.path.join(train_dir, 'apple')\n",
        "train_banana_dir = os.path.join(train_dir, 'banana')\n",
        "train_cherry_dir = os.path.join(train_dir, 'cherry')\n",
        "train_grape_dir = os.path.join(train_dir, 'grape')\n",
        "train_peach_dir = os.path.join(train_dir, 'peach')\n",
        "\n",
        "# Validation\n",
        "validation_apple_dir = os.path.join(validation_dir, 'apple')\n",
        "validation_banana_dir = os.path.join(validation_dir, 'banana')\n",
        "validation_cherry_dir = os.path.join(validation_dir, 'cherry')\n",
        "validation_grape_dir = os.path.join(validation_dir, 'grape')\n",
        "validation_peach_dir = os.path.join(validation_dir, 'peach')\n",
        "\n",
        "# Test\n",
        "test_apple_dir = os.path.join(test_dir, 'apple')\n",
        "test_banana_dir = os.path.join(test_dir, 'banana')\n",
        "test_cherry_dir = os.path.join(test_dir, 'cherry')\n",
        "test_grape_dir = os.path.join(test_dir, 'grape')\n",
        "test_peach_dir = os.path.join(test_dir, 'peach')\n"
      ],
      "execution_count": 13,
      "outputs": []
    },
    {
      "cell_type": "code",
      "metadata": {
        "id": "uXdbhFshNV5G",
        "colab_type": "code",
        "colab": {
          "base_uri": "https://localhost:8080/",
          "height": 102
        },
        "outputId": "b9c57c14-b444-43ea-fb70-5c28bda2e2f6"
      },
      "source": [
        "# Print number of images to verify training contents\n",
        "print('total training apple images:', len(os.listdir(train_apple_dir)))\n",
        "print('total training banana images:', len(os.listdir(train_banana_dir)))\n",
        "print('total training cherry images:', len(os.listdir(train_cherry_dir)))\n",
        "print('total training grape images:', len(os.listdir(train_grape_dir)))\n",
        "print('total training peach images:', len(os.listdir(train_peach_dir)))"
      ],
      "execution_count": 32,
      "outputs": [
        {
          "output_type": "stream",
          "text": [
            "total training apple images: 493\n",
            "total training banana images: 491\n",
            "total training cherry images: 493\n",
            "total training grape images: 985\n",
            "total training peach images: 493\n"
          ],
          "name": "stdout"
        }
      ]
    },
    {
      "cell_type": "code",
      "metadata": {
        "id": "kOOga4r-Eenn",
        "colab_type": "code",
        "colab": {
          "base_uri": "https://localhost:8080/",
          "height": 68
        },
        "outputId": "de335847-c8ce-4a0d-f0be-01b1323d3344"
      },
      "source": [
        "# Print first 10 images from directories to verify contents\n",
        "\n",
        "apple_train_dir_names = os.listdir(train_apple_dir)\n",
        "apple_validation_dir_names = os.listdir(validation_apple_dir)\n",
        "apple_test_dir_names = os.listdir(test_apple_dir)\n",
        "\n",
        "print('Training: ', apple_train_dir_names[:10])\n",
        "print('Validation: ',apple_validation_dir_names[:10])\n",
        "print('Test: ',apple_test_dir_names[:10])"
      ],
      "execution_count": 33,
      "outputs": [
        {
          "output_type": "stream",
          "text": [
            "Training:  ['239_100.jpg', '306_100.jpg', '132_100.jpg', '29_100.jpg', 'r_20_100.jpg', 'r_269_100.jpg', 'r_279_100.jpg', 'r_232_100.jpg', 'r_156_100.jpg', '320_100.jpg']\n",
            "Validation:  ['132_100.jpg', '29_100.jpg', '25_100.jpg', '112_100.jpg', '30_100.jpg', '174_100.jpg', '17_100.jpg', '13_100.jpg', '155_100.jpg', '121_100.jpg']\n",
            "Test:  ['32_100.jpg', '97_100.jpg', '87_100.jpg', '37_100.jpg', '83_100.jpg', '75_100.jpg', 'r_91_100.jpg', 'r_33_100.jpg', '73_100.jpg', '326_100.jpg']\n"
          ],
          "name": "stdout"
        }
      ]
    },
    {
      "cell_type": "markdown",
      "metadata": {
        "id": "ZM_5JuSuTfLR",
        "colab_type": "text"
      },
      "source": [
        "# Training model"
      ]
    },
    {
      "cell_type": "code",
      "metadata": {
        "id": "OmgLBSuRN6if",
        "colab_type": "code",
        "colab": {}
      },
      "source": [
        "# Building the network\n",
        "from keras import layers\n",
        "from keras import models\n",
        "\n",
        "model = models.Sequential()\n",
        "# First\n",
        "model.add(layers.Conv2D(32, (3, 3), activation='relu',\n",
        "                        input_shape=(150, 150, 3)))\n",
        "model.add(layers.MaxPooling2D((2, 2)))\n",
        "# Second\n",
        "model.add(layers.Conv2D(64, (3, 3), activation='relu'))\n",
        "model.add(layers.MaxPooling2D((2, 2)))\n",
        "# Third\n",
        "model.add(layers.Conv2D(128, (3, 3), activation='relu'))\n",
        "model.add(layers.MaxPooling2D((2, 2)))\n",
        "# Fourth\n",
        "model.add(layers.Conv2D(128, (3, 3), activation='relu'))\n",
        "model.add(layers.MaxPooling2D((2, 2)))\n",
        "# Fifth\n",
        "model.add(layers.Conv2D(256, (3, 3), activation='relu'))\n",
        "model.add(layers.MaxPooling2D((2, 2)))\n",
        "# Flatten and Dropout\n",
        "model.add(layers.Flatten())\n",
        "model.add(layers.Dropout(0.5))\n",
        "# 512 neurons in hidden layer\n",
        "model.add(layers.Dense(512, activation='relu'))\n",
        "# Output 5 categories\n",
        "model.add(layers.Dense(5, activation='softmax'))\n"
      ],
      "execution_count": 36,
      "outputs": []
    },
    {
      "cell_type": "code",
      "metadata": {
        "id": "qLk_iV3XOMY_",
        "colab_type": "code",
        "colab": {
          "base_uri": "https://localhost:8080/",
          "height": 629
        },
        "outputId": "7b87a4b8-2167-406c-e928-e2ba9f44e823"
      },
      "source": [
        "# Summarise model\n",
        "model.summary()"
      ],
      "execution_count": 37,
      "outputs": [
        {
          "output_type": "stream",
          "text": [
            "Model: \"sequential_2\"\n",
            "_________________________________________________________________\n",
            "Layer (type)                 Output Shape              Param #   \n",
            "=================================================================\n",
            "conv2d_6 (Conv2D)            (None, 148, 148, 32)      896       \n",
            "_________________________________________________________________\n",
            "max_pooling2d_6 (MaxPooling2 (None, 74, 74, 32)        0         \n",
            "_________________________________________________________________\n",
            "conv2d_7 (Conv2D)            (None, 72, 72, 64)        18496     \n",
            "_________________________________________________________________\n",
            "max_pooling2d_7 (MaxPooling2 (None, 36, 36, 64)        0         \n",
            "_________________________________________________________________\n",
            "conv2d_8 (Conv2D)            (None, 34, 34, 128)       73856     \n",
            "_________________________________________________________________\n",
            "max_pooling2d_8 (MaxPooling2 (None, 17, 17, 128)       0         \n",
            "_________________________________________________________________\n",
            "conv2d_9 (Conv2D)            (None, 15, 15, 128)       147584    \n",
            "_________________________________________________________________\n",
            "max_pooling2d_9 (MaxPooling2 (None, 7, 7, 128)         0         \n",
            "_________________________________________________________________\n",
            "conv2d_10 (Conv2D)           (None, 5, 5, 256)         295168    \n",
            "_________________________________________________________________\n",
            "max_pooling2d_10 (MaxPooling (None, 2, 2, 256)         0         \n",
            "_________________________________________________________________\n",
            "flatten_2 (Flatten)          (None, 1024)              0         \n",
            "_________________________________________________________________\n",
            "dropout_2 (Dropout)          (None, 1024)              0         \n",
            "_________________________________________________________________\n",
            "dense_3 (Dense)              (None, 512)               524800    \n",
            "_________________________________________________________________\n",
            "dense_4 (Dense)              (None, 5)                 2565      \n",
            "=================================================================\n",
            "Total params: 1,063,365\n",
            "Trainable params: 1,063,365\n",
            "Non-trainable params: 0\n",
            "_________________________________________________________________\n"
          ],
          "name": "stdout"
        }
      ]
    },
    {
      "cell_type": "code",
      "metadata": {
        "id": "G-VKSIThORAV",
        "colab_type": "code",
        "colab": {}
      },
      "source": [
        "# Selecting categorical_crossentropy as a loss function and RMSprop optimizer\n",
        "# Compile model\n",
        "from keras import optimizers\n",
        "\n",
        "model.compile(loss = 'categorical_crossentropy', optimizer='rmsprop', metrics=['acc'])\n"
      ],
      "execution_count": 38,
      "outputs": []
    },
    {
      "cell_type": "code",
      "metadata": {
        "id": "CJT9ipNnOUUm",
        "colab_type": "code",
        "colab": {
          "base_uri": "https://localhost:8080/",
          "height": 51
        },
        "outputId": "8769f2e4-3535-4122-b3d5-630733a08f15"
      },
      "source": [
        "# Data Augmentation to prevent overfitting\n",
        "from keras.preprocessing.image import ImageDataGenerator\n",
        "\n",
        "train_datagen = ImageDataGenerator(\n",
        "    rescale=1./255,\n",
        "    rotation_range=40,\n",
        "    width_shift_range=0.2,\n",
        "    height_shift_range=0.2,\n",
        "    shear_range=0.2,\n",
        "    zoom_range=0.2,\n",
        "    horizontal_flip=True,)\n",
        "\n",
        "test_datagen = ImageDataGenerator(rescale=1./255)\n",
        "\n",
        "train_generator = train_datagen.flow_from_directory(\n",
        "        train_dir,\n",
        "        target_size=(150, 150),\n",
        "        batch_size=20)\n",
        "\n",
        "validation_generator = test_datagen.flow_from_directory(\n",
        "        validation_dir,\n",
        "        target_size=(150, 150),\n",
        "        batch_size=20)\n"
      ],
      "execution_count": 39,
      "outputs": [
        {
          "output_type": "stream",
          "text": [
            "Found 2950 images belonging to 5 classes.\n",
            "Found 500 images belonging to 5 classes.\n"
          ],
          "name": "stdout"
        }
      ]
    },
    {
      "cell_type": "code",
      "metadata": {
        "id": "YIdDmbs6Odt3",
        "colab_type": "code",
        "colab": {
          "base_uri": "https://localhost:8080/",
          "height": 51
        },
        "outputId": "a07c54a7-9a67-4934-f279-c160d84a9860"
      },
      "source": [
        "# Print databatch, labels and train generator\n",
        "for data_batch, labels_batch in train_generator:\n",
        "     print('data batch shape:', data_batch.shape)\n",
        "     print('labels batch shape:', labels_batch.shape)\n",
        "     break"
      ],
      "execution_count": 40,
      "outputs": [
        {
          "output_type": "stream",
          "text": [
            "data batch shape: (20, 150, 150, 3)\n",
            "labels batch shape: (20, 5)\n"
          ],
          "name": "stdout"
        }
      ]
    },
    {
      "cell_type": "markdown",
      "metadata": {
        "id": "uudKugJjVOrb",
        "colab_type": "text"
      },
      "source": [
        "# Training"
      ]
    },
    {
      "cell_type": "code",
      "metadata": {
        "id": "13ZMC8vrOmxk",
        "colab_type": "code",
        "colab": {
          "base_uri": "https://localhost:8080/",
          "height": 527
        },
        "outputId": "f4dcdc96-7aff-49b3-bfec-3046c98f0677"
      },
      "source": [
        "# Training\n",
        "history = model.fit_generator(\n",
        "      train_generator,\n",
        "      steps_per_epoch=30,\n",
        "      epochs=15,\n",
        "      validation_data=validation_generator,\n",
        "      validation_steps=50)"
      ],
      "execution_count": 50,
      "outputs": [
        {
          "output_type": "stream",
          "text": [
            "Epoch 1/15\n",
            "30/30 [==============================] - 41s 1s/step - loss: 1.3931 - acc: 0.4932 - val_loss: 0.5501 - val_acc: 0.7320\n",
            "Epoch 2/15\n",
            "30/30 [==============================] - 41s 1s/step - loss: 0.5998 - acc: 0.7300 - val_loss: 0.1762 - val_acc: 0.8080\n",
            "Epoch 3/15\n",
            "30/30 [==============================] - 40s 1s/step - loss: 0.3993 - acc: 0.8100 - val_loss: 0.1724 - val_acc: 0.7980\n",
            "Epoch 4/15\n",
            "30/30 [==============================] - 40s 1s/step - loss: 0.4002 - acc: 0.7867 - val_loss: 0.2234 - val_acc: 0.8000\n",
            "Epoch 5/15\n",
            "30/30 [==============================] - 40s 1s/step - loss: 0.4980 - acc: 0.8300 - val_loss: 0.2122 - val_acc: 1.0000\n",
            "Epoch 6/15\n",
            "30/30 [==============================] - 40s 1s/step - loss: 0.2456 - acc: 0.9100 - val_loss: 0.0974 - val_acc: 0.9920\n",
            "Epoch 7/15\n",
            "30/30 [==============================] - 40s 1s/step - loss: 0.2448 - acc: 0.9186 - val_loss: 0.0327 - val_acc: 0.9980\n",
            "Epoch 8/15\n",
            "30/30 [==============================] - 40s 1s/step - loss: 0.1804 - acc: 0.9217 - val_loss: 0.0330 - val_acc: 0.9680\n",
            "Epoch 9/15\n",
            "30/30 [==============================] - 40s 1s/step - loss: 0.1786 - acc: 0.9333 - val_loss: 0.0066 - val_acc: 1.0000\n",
            "Epoch 10/15\n",
            "30/30 [==============================] - 40s 1s/step - loss: 0.1557 - acc: 0.9533 - val_loss: 0.0029 - val_acc: 1.0000\n",
            "Epoch 11/15\n",
            "30/30 [==============================] - 40s 1s/step - loss: 0.1725 - acc: 0.9317 - val_loss: 0.0073 - val_acc: 1.0000\n",
            "Epoch 12/15\n",
            "30/30 [==============================] - 40s 1s/step - loss: 0.0821 - acc: 0.9733 - val_loss: 0.0034 - val_acc: 1.0000\n",
            "Epoch 13/15\n",
            "30/30 [==============================] - 40s 1s/step - loss: 0.1407 - acc: 0.9567 - val_loss: 0.0026 - val_acc: 1.0000\n",
            "Epoch 14/15\n",
            "30/30 [==============================] - 40s 1s/step - loss: 0.0608 - acc: 0.9800 - val_loss: 3.7383e-04 - val_acc: 1.0000\n",
            "Epoch 15/15\n",
            "30/30 [==============================] - 40s 1s/step - loss: 0.1375 - acc: 0.9627 - val_loss: 0.0027 - val_acc: 1.0000\n"
          ],
          "name": "stdout"
        }
      ]
    },
    {
      "cell_type": "code",
      "metadata": {
        "id": "Q9FewvtwOr52",
        "colab_type": "code",
        "colab": {}
      },
      "source": [
        "# Saving the trained model\n",
        "model.save(GDRIVEPATH+'fruits_trained.h5')"
      ],
      "execution_count": 51,
      "outputs": []
    },
    {
      "cell_type": "markdown",
      "metadata": {
        "id": "7tXLNJ0lSqEn",
        "colab_type": "text"
      },
      "source": [
        "# Evaluation"
      ]
    },
    {
      "cell_type": "code",
      "metadata": {
        "id": "PmBHD9VYO1Rl",
        "colab_type": "code",
        "colab": {
          "base_uri": "https://localhost:8080/",
          "height": 545
        },
        "outputId": "e5d861b7-e0e0-4a47-a9a7-a0d879f90a2e"
      },
      "source": [
        "import matplotlib.pyplot as plt\n",
        "\n",
        "acc = history.history['acc']\n",
        "val_acc = history.history['val_acc']\n",
        "loss = history.history['loss']\n",
        "val_loss = history.history['val_loss']\n",
        "\n",
        "epochs = range(1, len(acc) + 1)\n",
        "\n",
        "plt.plot(epochs, acc, 'bo', label='Training acc')\n",
        "plt.plot(epochs, val_acc, 'b', label='Validation acc')\n",
        "plt.title('Training and validation accuracy')\n",
        "plt.legend()\n",
        "\n",
        "plt.figure()\n",
        "\n",
        "plt.plot(epochs, loss, 'ro', label='Training loss')\n",
        "plt.plot(epochs, val_loss, 'r', label='Validation loss')\n",
        "plt.title('Training and validation loss')\n",
        "plt.legend()\n",
        "\n",
        "plt.show()"
      ],
      "execution_count": 52,
      "outputs": [
        {
          "output_type": "display_data",
          "data": {
            "image/png": "[encoded data removed]",
            "text/plain": [
              "<Figure size 432x288 with 1 Axes>"
            ]
          },
          "metadata": {
            "tags": [],
            "needs_background": "light"
          }
        },
        {
          "output_type": "display_data",
          "data": {
            "image/png": "[encoded data removed]",
            "text/plain": [
              "<Figure size 432x288 with 1 Axes>"
            ]
          },
          "metadata": {
            "tags": [],
            "needs_background": "light"
          }
        }
      ]
    },
    {
      "cell_type": "code",
      "metadata": {
        "id": "tCBQTqrQLMfA",
        "colab_type": "code",
        "colab": {}
      },
      "source": [
        "# Importing and validating the new model\n",
        "model_dir = '/content/fruits-360-dataset/fruits-360fruits_trained.h5'\n",
        "\n",
        "# Loading the h5 file\n",
        "fruit_model = tf.keras.models.load_model(\n",
        "    model_dir,\n",
        "    custom_objects=None,\n",
        "    compile=True\n",
        ")"
      ],
      "execution_count": 53,
      "outputs": []
    },
    {
      "cell_type": "code",
      "metadata": {
        "id": "rdtBmDu4M8oC",
        "colab_type": "code",
        "colab": {
          "base_uri": "https://localhost:8080/",
          "height": 51
        },
        "outputId": "5e6ed66f-22fe-409c-8a32-9de617fc8189"
      },
      "source": [
        "# Evaluation of the model\n",
        "loss,acc = fruit_model.evaluate(validation_generator, verbose=2)\n",
        "print('Restored model, Accuracy: {:5.2f}%'.format(100*acc))"
      ],
      "execution_count": 54,
      "outputs": [
        {
          "output_type": "stream",
          "text": [
            "25/25 - 6s - loss: 0.0041 - acc: 1.0000\n",
            "Restored model, Accuracy: 100.00%\n"
          ],
          "name": "stdout"
        }
      ]
    },
    {
      "cell_type": "markdown",
      "metadata": {
        "id": "583q7CZxSSKu",
        "colab_type": "text"
      },
      "source": [
        "# Prediction\n",
        "\n",
        "\n",
        "[Forked from deelpizard - YouTube](https://www.youtube.com/watch?v=bfQBPNDy5EM)\n",
        "\n"
      ]
    },
    {
      "cell_type": "code",
      "metadata": {
        "id": "Y2yja1i_MQB_",
        "colab_type": "code",
        "colab": {
          "base_uri": "https://localhost:8080/",
          "height": 610
        },
        "outputId": "02fe9c25-d573-4bbf-8bc1-6a44b806c037"
      },
      "source": [
        "# Doesn't work\n",
        "test_batches = ImageDataGenerator().flow_from_directory(test_dir, target_size=(150, 150), classes=['apple', 'banana', 'cherry', 'grape', 'peach'], batch_size=20)\n",
        "\n",
        "test_imgs, test_labels = next(test_batches)\n",
        "plt.plot(test_imgs, titles=test_labels)\n"
      ],
      "execution_count": 55,
      "outputs": [
        {
          "output_type": "stream",
          "text": [
            "Found 986 images belonging to 5 classes.\n"
          ],
          "name": "stdout"
        },
        {
          "output_type": "error",
          "ename": "ValueError",
          "evalue": "ignored",
          "traceback": [
            "\u001b[0;31m---------------------------------------------------------------------------\u001b[0m",
            "\u001b[0;31mValueError\u001b[0m                                Traceback (most recent call last)",
            "\u001b[0;32m<ipython-input-55-8ab1656629eb>\u001b[0m in \u001b[0;36m<module>\u001b[0;34m()\u001b[0m\n\u001b[1;32m      3\u001b[0m \u001b[0;34m\u001b[0m\u001b[0m\n\u001b[1;32m      4\u001b[0m \u001b[0mtest_imgs\u001b[0m\u001b[0;34m,\u001b[0m \u001b[0mtest_labels\u001b[0m \u001b[0;34m=\u001b[0m \u001b[0mnext\u001b[0m\u001b[0;34m(\u001b[0m\u001b[0mtest_batches\u001b[0m\u001b[0;34m)\u001b[0m\u001b[0;34m\u001b[0m\u001b[0;34m\u001b[0m\u001b[0m\n\u001b[0;32m----> 5\u001b[0;31m \u001b[0mplt\u001b[0m\u001b[0;34m.\u001b[0m\u001b[0mplot\u001b[0m\u001b[0;34m(\u001b[0m\u001b[0mtest_imgs\u001b[0m\u001b[0;34m,\u001b[0m \u001b[0mtitles\u001b[0m\u001b[0;34m=\u001b[0m\u001b[0mtest_labels\u001b[0m\u001b[0;34m)\u001b[0m\u001b[0;34m\u001b[0m\u001b[0;34m\u001b[0m\u001b[0m\n\u001b[0m",
            "\u001b[0;32m/usr/local/lib/python3.6/dist-packages/matplotlib/pyplot.py\u001b[0m in \u001b[0;36mplot\u001b[0;34m(scalex, scaley, data, *args, **kwargs)\u001b[0m\n\u001b[1;32m   2761\u001b[0m     return gca().plot(\n\u001b[1;32m   2762\u001b[0m         *args, scalex=scalex, scaley=scaley, **({\"data\": data} if data\n\u001b[0;32m-> 2763\u001b[0;31m         is not None else {}), **kwargs)\n\u001b[0m\u001b[1;32m   2764\u001b[0m \u001b[0;34m\u001b[0m\u001b[0m\n\u001b[1;32m   2765\u001b[0m \u001b[0;34m\u001b[0m\u001b[0m\n",
            "\u001b[0;32m/usr/local/lib/python3.6/dist-packages/matplotlib/axes/_axes.py\u001b[0m in \u001b[0;36mplot\u001b[0;34m(self, scalex, scaley, data, *args, **kwargs)\u001b[0m\n\u001b[1;32m   1645\u001b[0m         \"\"\"\n\u001b[1;32m   1646\u001b[0m         \u001b[0mkwargs\u001b[0m \u001b[0;34m=\u001b[0m \u001b[0mcbook\u001b[0m\u001b[0;34m.\u001b[0m\u001b[0mnormalize_kwargs\u001b[0m\u001b[0;34m(\u001b[0m\u001b[0mkwargs\u001b[0m\u001b[0;34m,\u001b[0m \u001b[0mmlines\u001b[0m\u001b[0;34m.\u001b[0m\u001b[0mLine2D\u001b[0m\u001b[0;34m)\u001b[0m\u001b[0;34m\u001b[0m\u001b[0;34m\u001b[0m\u001b[0m\n\u001b[0;32m-> 1647\u001b[0;31m         \u001b[0mlines\u001b[0m \u001b[0;34m=\u001b[0m \u001b[0;34m[\u001b[0m\u001b[0;34m*\u001b[0m\u001b[0mself\u001b[0m\u001b[0;34m.\u001b[0m\u001b[0m_get_lines\u001b[0m\u001b[0;34m(\u001b[0m\u001b[0;34m*\u001b[0m\u001b[0margs\u001b[0m\u001b[0;34m,\u001b[0m \u001b[0mdata\u001b[0m\u001b[0;34m=\u001b[0m\u001b[0mdata\u001b[0m\u001b[0;34m,\u001b[0m \u001b[0;34m**\u001b[0m\u001b[0mkwargs\u001b[0m\u001b[0;34m)\u001b[0m\u001b[0;34m]\u001b[0m\u001b[0;34m\u001b[0m\u001b[0;34m\u001b[0m\u001b[0m\n\u001b[0m\u001b[1;32m   1648\u001b[0m         \u001b[0;32mfor\u001b[0m \u001b[0mline\u001b[0m \u001b[0;32min\u001b[0m \u001b[0mlines\u001b[0m\u001b[0;34m:\u001b[0m\u001b[0;34m\u001b[0m\u001b[0;34m\u001b[0m\u001b[0m\n\u001b[1;32m   1649\u001b[0m             \u001b[0mself\u001b[0m\u001b[0;34m.\u001b[0m\u001b[0madd_line\u001b[0m\u001b[0;34m(\u001b[0m\u001b[0mline\u001b[0m\u001b[0;34m)\u001b[0m\u001b[0;34m\u001b[0m\u001b[0;34m\u001b[0m\u001b[0m\n",
            "\u001b[0;32m/usr/local/lib/python3.6/dist-packages/matplotlib/axes/_base.py\u001b[0m in \u001b[0;36m__call__\u001b[0;34m(self, *args, **kwargs)\u001b[0m\n\u001b[1;32m    214\u001b[0m                 \u001b[0mthis\u001b[0m \u001b[0;34m+=\u001b[0m \u001b[0margs\u001b[0m\u001b[0;34m[\u001b[0m\u001b[0;36m0\u001b[0m\u001b[0;34m]\u001b[0m\u001b[0;34m,\u001b[0m\u001b[0;34m\u001b[0m\u001b[0;34m\u001b[0m\u001b[0m\n\u001b[1;32m    215\u001b[0m                 \u001b[0margs\u001b[0m \u001b[0;34m=\u001b[0m \u001b[0margs\u001b[0m\u001b[0;34m[\u001b[0m\u001b[0;36m1\u001b[0m\u001b[0;34m:\u001b[0m\u001b[0;34m]\u001b[0m\u001b[0;34m\u001b[0m\u001b[0;34m\u001b[0m\u001b[0m\n\u001b[0;32m--> 216\u001b[0;31m             \u001b[0;32myield\u001b[0m \u001b[0;32mfrom\u001b[0m \u001b[0mself\u001b[0m\u001b[0;34m.\u001b[0m\u001b[0m_plot_args\u001b[0m\u001b[0;34m(\u001b[0m\u001b[0mthis\u001b[0m\u001b[0;34m,\u001b[0m \u001b[0mkwargs\u001b[0m\u001b[0;34m)\u001b[0m\u001b[0;34m\u001b[0m\u001b[0;34m\u001b[0m\u001b[0m\n\u001b[0m\u001b[1;32m    217\u001b[0m \u001b[0;34m\u001b[0m\u001b[0m\n\u001b[1;32m    218\u001b[0m     \u001b[0;32mdef\u001b[0m \u001b[0mget_next_color\u001b[0m\u001b[0;34m(\u001b[0m\u001b[0mself\u001b[0m\u001b[0;34m)\u001b[0m\u001b[0;34m:\u001b[0m\u001b[0;34m\u001b[0m\u001b[0;34m\u001b[0m\u001b[0m\n",
            "\u001b[0;32m/usr/local/lib/python3.6/dist-packages/matplotlib/axes/_base.py\u001b[0m in \u001b[0;36m_plot_args\u001b[0;34m(self, tup, kwargs)\u001b[0m\n\u001b[1;32m    343\u001b[0m                              f\"have shapes {x.shape} and {y.shape}\")\n\u001b[1;32m    344\u001b[0m         \u001b[0;32mif\u001b[0m \u001b[0mx\u001b[0m\u001b[0;34m.\u001b[0m\u001b[0mndim\u001b[0m \u001b[0;34m>\u001b[0m \u001b[0;36m2\u001b[0m \u001b[0;32mor\u001b[0m \u001b[0my\u001b[0m\u001b[0;34m.\u001b[0m\u001b[0mndim\u001b[0m \u001b[0;34m>\u001b[0m \u001b[0;36m2\u001b[0m\u001b[0;34m:\u001b[0m\u001b[0;34m\u001b[0m\u001b[0;34m\u001b[0m\u001b[0m\n\u001b[0;32m--> 345\u001b[0;31m             raise ValueError(f\"x and y can be no greater than 2-D, but have \"\n\u001b[0m\u001b[1;32m    346\u001b[0m                              f\"shapes {x.shape} and {y.shape}\")\n\u001b[1;32m    347\u001b[0m         \u001b[0;32mif\u001b[0m \u001b[0mx\u001b[0m\u001b[0;34m.\u001b[0m\u001b[0mndim\u001b[0m \u001b[0;34m==\u001b[0m \u001b[0;36m1\u001b[0m\u001b[0;34m:\u001b[0m\u001b[0;34m\u001b[0m\u001b[0;34m\u001b[0m\u001b[0m\n",
            "\u001b[0;31mValueError\u001b[0m: x and y can be no greater than 2-D, but have shapes (20,) and (20, 150, 150, 3)"
          ]
        },
        {
          "output_type": "display_data",
          "data": {
            "image/png": "[encoded data removed]",
            "text/plain": [
              "<Figure size 432x288 with 1 Axes>"
            ]
          },
          "metadata": {
            "tags": [],
            "needs_background": "light"
          }
        }
      ]
    },
    {
      "cell_type": "code",
      "metadata": {
        "id": "2K3o-mKoRb6w",
        "colab_type": "code",
        "colab": {}
      },
      "source": [
        "# Predicting model\n",
        "predictions = model.predict_generator(test_batches, steps=1, verbose=0)"
      ],
      "execution_count": 56,
      "outputs": []
    },
    {
      "cell_type": "code",
      "metadata": {
        "id": "AQoLRDodRnyX",
        "colab_type": "code",
        "colab": {
          "base_uri": "https://localhost:8080/",
          "height": 697
        },
        "outputId": "65c326aa-9bd6-4718-e36e-831c6f03daef"
      },
      "source": [
        "predictions"
      ],
      "execution_count": 57,
      "outputs": [
        {
          "output_type": "execute_result",
          "data": {
            "text/plain": [
              "array([[7.9117150e-37, 1.0000000e+00, 0.0000000e+00, 0.0000000e+00,\n",
              "        0.0000000e+00],\n",
              "       [0.0000000e+00, 1.0000000e+00, 0.0000000e+00, 0.0000000e+00,\n",
              "        0.0000000e+00],\n",
              "       [1.0000000e+00, 0.0000000e+00, 2.4609513e-36, 0.0000000e+00,\n",
              "        0.0000000e+00],\n",
              "       [0.0000000e+00, 0.0000000e+00, 0.0000000e+00, 0.0000000e+00,\n",
              "        1.0000000e+00],\n",
              "       [1.0000000e+00, 0.0000000e+00, 0.0000000e+00, 0.0000000e+00,\n",
              "        0.0000000e+00],\n",
              "       [0.0000000e+00, 1.0000000e+00, 0.0000000e+00, 0.0000000e+00,\n",
              "        0.0000000e+00],\n",
              "       [0.0000000e+00, 1.0000000e+00, 0.0000000e+00, 0.0000000e+00,\n",
              "        0.0000000e+00],\n",
              "       [1.0000000e+00, 0.0000000e+00, 0.0000000e+00, 0.0000000e+00,\n",
              "        0.0000000e+00],\n",
              "       [1.0000000e+00, 0.0000000e+00, 0.0000000e+00, 0.0000000e+00,\n",
              "        0.0000000e+00],\n",
              "       [0.0000000e+00, 1.0000000e+00, 0.0000000e+00, 0.0000000e+00,\n",
              "        0.0000000e+00],\n",
              "       [0.0000000e+00, 1.0000000e+00, 0.0000000e+00, 0.0000000e+00,\n",
              "        0.0000000e+00],\n",
              "       [0.0000000e+00, 1.0000000e+00, 0.0000000e+00, 0.0000000e+00,\n",
              "        0.0000000e+00],\n",
              "       [0.0000000e+00, 1.0000000e+00, 0.0000000e+00, 0.0000000e+00,\n",
              "        0.0000000e+00],\n",
              "       [1.0000000e+00, 0.0000000e+00, 0.0000000e+00, 0.0000000e+00,\n",
              "        0.0000000e+00],\n",
              "       [0.0000000e+00, 0.0000000e+00, 0.0000000e+00, 0.0000000e+00,\n",
              "        1.0000000e+00],\n",
              "       [0.0000000e+00, 0.0000000e+00, 0.0000000e+00, 0.0000000e+00,\n",
              "        1.0000000e+00],\n",
              "       [1.0000000e+00, 0.0000000e+00, 0.0000000e+00, 0.0000000e+00,\n",
              "        0.0000000e+00],\n",
              "       [1.0000000e+00, 0.0000000e+00, 0.0000000e+00, 0.0000000e+00,\n",
              "        0.0000000e+00],\n",
              "       [0.0000000e+00, 1.0000000e+00, 0.0000000e+00, 0.0000000e+00,\n",
              "        0.0000000e+00],\n",
              "       [1.0000000e+00, 0.0000000e+00, 0.0000000e+00, 0.0000000e+00,\n",
              "        0.0000000e+00]], dtype=float32)"
            ]
          },
          "metadata": {
            "tags": []
          },
          "execution_count": 57
        }
      ]
    }
  ]
}